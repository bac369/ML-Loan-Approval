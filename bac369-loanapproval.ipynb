{
 "cells": [
  {
   "attachments": {},
   "cell_type": "markdown",
   "id": "2fe3deba",
   "metadata": {},
   "source": [
    "\n",
    "# Bac369\n",
    "# Loan Approval Decisions\n",
    "\n",
    "\n",
    "## Motivation\n",
    "- Loans are hard to determine\n",
    "- Loan approval can be a key factor in financial success (or ruin)\n",
    "- Personally interested in starting a business some day, looking for insight\n",
    "- Seems like an interesting way to use ML models we have learned\n",
    "- Uses categorical and numerical data to reach decisions\n",
    "- Large Data Set, but not too cumbersome for training\n",
    "- Involves a bit of feature engineering\n",
    "\n",
    "\n",
    "## Goals\n",
    "Using historical data about whether loans were fully paid off or charged off, find a model to most accurately predict whether or not a loan should be approved and disbursed or not.  \n",
    "Analyzed why the a particular models perform better for the problem above.\n",
    "Postulate on how improvements to the models or my thought processes could improve.\n",
    "Achieve better performance than dataset implies   \n",
    "Target value MIS_Status with PIF and CHGOFF if loan was paid off or defaulted\n",
    "P I F     361524 :  CHGOFF     98583  =  460107 total \n",
    "Aim for higher than  79% accuracy for classification\n",
    "\n",
    "\n",
    "## Models\n",
    "- Stochastic Gradient Descent: Elasticnet, L1, L2\n",
    "- Logistic Regression: L1, L2\n",
    "- Decision Tree: Gini Depth 3 and 10, Entropy Depth 3, Adaboost\n",
    "- Multi-layer Perceptron\n",
    "- Gradient Descent\n",
    "- Tensorflow: Binary CrossEntropy\n",
    "\n"
   ]
  },
  {
   "cell_type": "code",
   "execution_count": 1,
   "id": "0aaf2d25",
   "metadata": {},
   "outputs": [],
   "source": [
    "# Imports\n",
    "import warnings; warnings.simplefilter('ignore')\n",
    "import os\n",
    "os.environ['KERAS_BACKEND'] = 'tensorflow'\n",
    "from tensorflow import keras \n",
    "\n",
    "import tensorflow as tf\n",
    "import pandas as pd\n",
    "import numpy as np\n",
    "\n",
    "from sklearn.tree import DecisionTreeClassifier\n",
    "from sklearn.metrics import accuracy_score, confusion_matrix\n",
    "from sklearn.linear_model import LogisticRegression\n",
    "from sklearn import tree\n",
    "from sklearn.model_selection import train_test_split\n",
    "import matplotlib.pyplot as plt"
   ]
  },
  {
   "cell_type": "code",
   "execution_count": 2,
   "id": "ff39cabb",
   "metadata": {},
   "outputs": [],
   "source": [
    "\n",
    "from keras.utils import to_categorical\n",
    "from tensorflow.keras.models import Sequential\n",
    "from tensorflow.keras.layers import Dense\n",
    "from tensorflow.keras.optimizers import SGD,Adam"
   ]
  },
  {
   "cell_type": "code",
   "execution_count": 3,
   "id": "705e70f8",
   "metadata": {},
   "outputs": [],
   "source": [
    "from mlxtend.plotting import scatterplotmatrix\n",
    "from mlxtend.plotting import heatmap"
   ]
  },
  {
   "cell_type": "code",
   "execution_count": 4,
   "id": "cc4f8673",
   "metadata": {},
   "outputs": [],
   "source": [
    "from sklearn.neural_network import MLPClassifier\n",
    "from sklearn.ensemble import GradientBoostingClassifier\n",
    "from sklearn.linear_model import SGDClassifier\n",
    "from matplotlib import pyplot as plt\n",
    "\n",
    "import graphviz\n",
    "os.environ[\"PATH\"] += os.pathsep + 'C:\\Program Files\\Graphviz\\bin'"
   ]
  },
  {
   "cell_type": "code",
   "execution_count": 5,
   "id": "e5c49112",
   "metadata": {
    "scrolled": false
   },
   "outputs": [
    {
     "data": {
      "text/html": [
       "<div>\n",
       "<style scoped>\n",
       "    .dataframe tbody tr th:only-of-type {\n",
       "        vertical-align: middle;\n",
       "    }\n",
       "\n",
       "    .dataframe tbody tr th {\n",
       "        vertical-align: top;\n",
       "    }\n",
       "\n",
       "    .dataframe thead th {\n",
       "        text-align: right;\n",
       "    }\n",
       "</style>\n",
       "<table border=\"1\" class=\"dataframe\">\n",
       "  <thead>\n",
       "    <tr style=\"text-align: right;\">\n",
       "      <th></th>\n",
       "      <th>LoanNr_ChkDgt</th>\n",
       "      <th>Name</th>\n",
       "      <th>City</th>\n",
       "      <th>State</th>\n",
       "      <th>Zip</th>\n",
       "      <th>Bank</th>\n",
       "      <th>BankState</th>\n",
       "      <th>NAICS</th>\n",
       "      <th>ApprovalDate</th>\n",
       "      <th>ApprovalFY</th>\n",
       "      <th>...</th>\n",
       "      <th>RevLineCr</th>\n",
       "      <th>LowDoc</th>\n",
       "      <th>ChgOffDate</th>\n",
       "      <th>DisbursementDate</th>\n",
       "      <th>DisbursementGross</th>\n",
       "      <th>BalanceGross</th>\n",
       "      <th>MIS_Status</th>\n",
       "      <th>ChgOffPrinGr</th>\n",
       "      <th>GrAppv</th>\n",
       "      <th>SBA_Appv</th>\n",
       "    </tr>\n",
       "  </thead>\n",
       "  <tbody>\n",
       "    <tr>\n",
       "      <th>0</th>\n",
       "      <td>1000014003</td>\n",
       "      <td>ABC HOBBYCRAFT</td>\n",
       "      <td>EVANSVILLE</td>\n",
       "      <td>IN</td>\n",
       "      <td>47711</td>\n",
       "      <td>FIFTH THIRD BANK</td>\n",
       "      <td>OH</td>\n",
       "      <td>451120</td>\n",
       "      <td>28-Feb-97</td>\n",
       "      <td>1997</td>\n",
       "      <td>...</td>\n",
       "      <td>N</td>\n",
       "      <td>Y</td>\n",
       "      <td>NaN</td>\n",
       "      <td>28-Feb-99</td>\n",
       "      <td>$60,000.00</td>\n",
       "      <td>$0.00</td>\n",
       "      <td>P I F</td>\n",
       "      <td>$0.00</td>\n",
       "      <td>$60,000.00</td>\n",
       "      <td>$48,000.00</td>\n",
       "    </tr>\n",
       "    <tr>\n",
       "      <th>1</th>\n",
       "      <td>1000024006</td>\n",
       "      <td>LANDMARK BAR &amp; GRILLE (THE)</td>\n",
       "      <td>NEW PARIS</td>\n",
       "      <td>IN</td>\n",
       "      <td>46526</td>\n",
       "      <td>1ST SOURCE BANK</td>\n",
       "      <td>IN</td>\n",
       "      <td>722410</td>\n",
       "      <td>28-Feb-97</td>\n",
       "      <td>1997</td>\n",
       "      <td>...</td>\n",
       "      <td>N</td>\n",
       "      <td>Y</td>\n",
       "      <td>NaN</td>\n",
       "      <td>31-May-97</td>\n",
       "      <td>$40,000.00</td>\n",
       "      <td>$0.00</td>\n",
       "      <td>P I F</td>\n",
       "      <td>$0.00</td>\n",
       "      <td>$40,000.00</td>\n",
       "      <td>$32,000.00</td>\n",
       "    </tr>\n",
       "    <tr>\n",
       "      <th>2</th>\n",
       "      <td>1000034009</td>\n",
       "      <td>WHITLOCK DDS, TODD M.</td>\n",
       "      <td>BLOOMINGTON</td>\n",
       "      <td>IN</td>\n",
       "      <td>47401</td>\n",
       "      <td>GRANT COUNTY STATE BANK</td>\n",
       "      <td>IN</td>\n",
       "      <td>621210</td>\n",
       "      <td>28-Feb-97</td>\n",
       "      <td>1997</td>\n",
       "      <td>...</td>\n",
       "      <td>N</td>\n",
       "      <td>N</td>\n",
       "      <td>NaN</td>\n",
       "      <td>31-Dec-97</td>\n",
       "      <td>$287,000.00</td>\n",
       "      <td>$0.00</td>\n",
       "      <td>P I F</td>\n",
       "      <td>$0.00</td>\n",
       "      <td>$287,000.00</td>\n",
       "      <td>$215,250.00</td>\n",
       "    </tr>\n",
       "    <tr>\n",
       "      <th>3</th>\n",
       "      <td>1000044001</td>\n",
       "      <td>BIG BUCKS PAWN &amp; JEWELRY, LLC</td>\n",
       "      <td>BROKEN ARROW</td>\n",
       "      <td>OK</td>\n",
       "      <td>74012</td>\n",
       "      <td>1ST NATL BK &amp; TR CO OF BROKEN</td>\n",
       "      <td>OK</td>\n",
       "      <td>0</td>\n",
       "      <td>28-Feb-97</td>\n",
       "      <td>1997</td>\n",
       "      <td>...</td>\n",
       "      <td>N</td>\n",
       "      <td>Y</td>\n",
       "      <td>NaN</td>\n",
       "      <td>30-Jun-97</td>\n",
       "      <td>$35,000.00</td>\n",
       "      <td>$0.00</td>\n",
       "      <td>P I F</td>\n",
       "      <td>$0.00</td>\n",
       "      <td>$35,000.00</td>\n",
       "      <td>$28,000.00</td>\n",
       "    </tr>\n",
       "    <tr>\n",
       "      <th>4</th>\n",
       "      <td>1000054004</td>\n",
       "      <td>ANASTASIA CONFECTIONS, INC.</td>\n",
       "      <td>ORLANDO</td>\n",
       "      <td>FL</td>\n",
       "      <td>32801</td>\n",
       "      <td>FLORIDA BUS. DEVEL CORP</td>\n",
       "      <td>FL</td>\n",
       "      <td>0</td>\n",
       "      <td>28-Feb-97</td>\n",
       "      <td>1997</td>\n",
       "      <td>...</td>\n",
       "      <td>N</td>\n",
       "      <td>N</td>\n",
       "      <td>NaN</td>\n",
       "      <td>14-May-97</td>\n",
       "      <td>$229,000.00</td>\n",
       "      <td>$0.00</td>\n",
       "      <td>P I F</td>\n",
       "      <td>$0.00</td>\n",
       "      <td>$229,000.00</td>\n",
       "      <td>$229,000.00</td>\n",
       "    </tr>\n",
       "  </tbody>\n",
       "</table>\n",
       "<p>5 rows × 27 columns</p>\n",
       "</div>"
      ],
      "text/plain": [
       "   LoanNr_ChkDgt                           Name          City State    Zip  \\\n",
       "0     1000014003                 ABC HOBBYCRAFT    EVANSVILLE    IN  47711   \n",
       "1     1000024006    LANDMARK BAR & GRILLE (THE)     NEW PARIS    IN  46526   \n",
       "2     1000034009          WHITLOCK DDS, TODD M.   BLOOMINGTON    IN  47401   \n",
       "3     1000044001  BIG BUCKS PAWN & JEWELRY, LLC  BROKEN ARROW    OK  74012   \n",
       "4     1000054004    ANASTASIA CONFECTIONS, INC.       ORLANDO    FL  32801   \n",
       "\n",
       "                            Bank BankState   NAICS ApprovalDate ApprovalFY  \\\n",
       "0               FIFTH THIRD BANK        OH  451120    28-Feb-97       1997   \n",
       "1                1ST SOURCE BANK        IN  722410    28-Feb-97       1997   \n",
       "2        GRANT COUNTY STATE BANK        IN  621210    28-Feb-97       1997   \n",
       "3  1ST NATL BK & TR CO OF BROKEN        OK       0    28-Feb-97       1997   \n",
       "4        FLORIDA BUS. DEVEL CORP        FL       0    28-Feb-97       1997   \n",
       "\n",
       "   ...  RevLineCr  LowDoc  ChgOffDate  DisbursementDate  DisbursementGross  \\\n",
       "0  ...          N       Y         NaN         28-Feb-99        $60,000.00    \n",
       "1  ...          N       Y         NaN         31-May-97        $40,000.00    \n",
       "2  ...          N       N         NaN         31-Dec-97       $287,000.00    \n",
       "3  ...          N       Y         NaN         30-Jun-97        $35,000.00    \n",
       "4  ...          N       N         NaN         14-May-97       $229,000.00    \n",
       "\n",
       "   BalanceGross  MIS_Status ChgOffPrinGr        GrAppv      SBA_Appv  \n",
       "0        $0.00        P I F       $0.00    $60,000.00    $48,000.00   \n",
       "1        $0.00        P I F       $0.00    $40,000.00    $32,000.00   \n",
       "2        $0.00        P I F       $0.00   $287,000.00   $215,250.00   \n",
       "3        $0.00        P I F       $0.00    $35,000.00    $28,000.00   \n",
       "4        $0.00        P I F       $0.00   $229,000.00   $229,000.00   \n",
       "\n",
       "[5 rows x 27 columns]"
      ]
     },
     "execution_count": 5,
     "metadata": {},
     "output_type": "execute_result"
    }
   ],
   "source": [
    "\n",
    "# Importing Dataset and Assigning Names to Columns\n",
    "''\n",
    "df = pd.read_csv('SBAnational.csv')\n",
    "#df.columns = []\n",
    "\n",
    "# df =df[~df.isin([np.nan, np.inf, -np.inf]).any(1)]\n",
    "df.head()"
   ]
  },
  {
   "attachments": {},
   "cell_type": "markdown",
   "id": "2bc81a62",
   "metadata": {},
   "source": [
    "### Checking Columns"
   ]
  },
  {
   "cell_type": "code",
   "execution_count": 6,
   "id": "816081b2",
   "metadata": {
    "scrolled": false
   },
   "outputs": [
    {
     "data": {
      "text/plain": [
       "Index(['LoanNr_ChkDgt', 'Name', 'City', 'State', 'Zip', 'Bank', 'BankState',\n",
       "       'NAICS', 'ApprovalDate', 'ApprovalFY', 'Term', 'NoEmp', 'NewExist',\n",
       "       'CreateJob', 'RetainedJob', 'FranchiseCode', 'UrbanRural', 'RevLineCr',\n",
       "       'LowDoc', 'ChgOffDate', 'DisbursementDate', 'DisbursementGross',\n",
       "       'BalanceGross', 'MIS_Status', 'ChgOffPrinGr', 'GrAppv', 'SBA_Appv'],\n",
       "      dtype='object')"
      ]
     },
     "execution_count": 6,
     "metadata": {},
     "output_type": "execute_result"
    }
   ],
   "source": [
    "df.columns"
   ]
  },
  {
   "attachments": {},
   "cell_type": "markdown",
   "id": "c80b3934",
   "metadata": {},
   "source": [
    "### Removing Unnecessary columns\n",
    "- 'LoanNr_ChkDgt', 'Name' irrelevant \n",
    "- 'City', 'Zip', 'Bank' too specific to be of use, back might be useful but hard to preprocess well.\n",
    "- 'ChgOffDate', 'BalanceGross', 'ChgOffPrinGr', 'SBA_Appv' only relevant after a chargeoff, not to determine whether it will be charged off"
   ]
  },
  {
   "cell_type": "code",
   "execution_count": 7,
   "id": "55a33d50",
   "metadata": {},
   "outputs": [],
   "source": [
    "df.drop(columns=['LoanNr_ChkDgt', 'Name', 'City', 'Zip', 'Bank', \\\n",
    "                      'ChgOffDate', 'BalanceGross', 'ChgOffPrinGr'], inplace=True)"
   ]
  },
  {
   "cell_type": "code",
   "execution_count": 8,
   "id": "8d82dd13",
   "metadata": {},
   "outputs": [
    {
     "data": {
      "text/plain": [
       "(697216, 19)"
      ]
     },
     "execution_count": 8,
     "metadata": {},
     "output_type": "execute_result"
    }
   ],
   "source": [
    "df['NAICS_Industry'] = df['NAICS'].astype('str').apply(lambda x: x[:2])\n",
    "\n",
    "df['NAICS_Industry'] = df['NAICS_Industry'].map({\n",
    "    '11': ' Agriculture_forestry_fishing_hunting',\n",
    "    '21': 'Mining_quarrying_oil_gas',\n",
    "    '22': 'Utilities',\n",
    "    '23': 'Construction',\n",
    "    '31': 'Manufacturing',\n",
    "    '32': 'Manufacturing',\n",
    "    '33': 'Manufacturing',\n",
    "    '42': 'Wholesale_trade',\n",
    "    '44': 'Retail_trade',\n",
    "    '45': 'Retail_trade',\n",
    "    '48': 'Transportation_warehousing',\n",
    "    '49': 'Transportation_warehousing',\n",
    "    '51': 'Information',\n",
    "    '52': 'Finance_Insurance',\n",
    "    '53': 'Realestate_rental_leasing',\n",
    "    '54': 'Professional_scientific_technicalservices',\n",
    "    '55': 'Managementofcompanies_enterprises',\n",
    "    '56': ' Administrative_support_wastemanagement_remediation',\n",
    "    '61': 'Educational',\n",
    "    '62': 'Healthcare_socialassistance',\n",
    "    '71': 'Arts_entertainment_recreation',\n",
    "    '72': 'Accommodation_foodservices',\n",
    "    '81': 'Other',\n",
    "    '92': 'Public_administration'\n",
    "})\n",
    "df.dropna(subset=['NAICS_Industry'], inplace=True)\n",
    "df.drop(columns=['NAICS'], inplace=True)\n",
    "df.shape"
   ]
  },
  {
   "cell_type": "code",
   "execution_count": 9,
   "id": "187d8dc5",
   "metadata": {
    "scrolled": true
   },
   "outputs": [],
   "source": [
    "df.loc[(df['FranchiseCode'] <= 1), 'Franchise'] = 0\n",
    "df.loc[(df['FranchiseCode'] > 1), 'Franchise'] = 1\n",
    "df.drop(columns=['FranchiseCode'], inplace=True)"
   ]
  },
  {
   "cell_type": "code",
   "execution_count": 10,
   "id": "4f119f3b",
   "metadata": {},
   "outputs": [
    {
     "data": {
      "text/plain": [
       "State                   8\n",
       "BankState             625\n",
       "ApprovalDate            0\n",
       "ApprovalFY              0\n",
       "Term                    0\n",
       "NoEmp                   0\n",
       "NewExist              136\n",
       "CreateJob               0\n",
       "RetainedJob             0\n",
       "UrbanRural              0\n",
       "RevLineCr            2338\n",
       "LowDoc               2582\n",
       "DisbursementDate     1955\n",
       "DisbursementGross       0\n",
       "MIS_Status           1716\n",
       "GrAppv                  0\n",
       "SBA_Appv                0\n",
       "NAICS_Industry          0\n",
       "Franchise               0\n",
       "dtype: int64"
      ]
     },
     "execution_count": 10,
     "metadata": {},
     "output_type": "execute_result"
    }
   ],
   "source": [
    "df.isnull().sum()"
   ]
  },
  {
   "attachments": {},
   "cell_type": "markdown",
   "id": "c525041f",
   "metadata": {},
   "source": [
    "# Preprocessing\n",
    "To precprocess the data there are some objectives:\n",
    "1. Identify which variables need to be cleaned: NAICS  (North American Industry Classification System) has my different values only the first two numbers are necessary to determine the industry, NewExist (whether the comaony is new or existing) has 3 values, 0, 1, 2, only 1 and 2 are relevant values, LowDocs has values that are data entry and null values\n",
    "2. Change monetary values to floats without '$' or ','.\n",
    "4. OneHotEncode non-numerical values: State, BankState, Industry\n",
    "5. Identifying relationships between columns: State and Bank State have a relationship, I should make a new colum to identify that.\n",
    "5. Encode Dates: convert to DateTime\n",
    "6. Change remaining object type data to processable data."
   ]
  },
  {
   "cell_type": "code",
   "execution_count": 11,
   "id": "8fb83c7a",
   "metadata": {},
   "outputs": [],
   "source": [
    "df.dropna(subset=['MIS_Status'], inplace=True)"
   ]
  },
  {
   "cell_type": "code",
   "execution_count": 12,
   "id": "74f112bc",
   "metadata": {},
   "outputs": [
    {
     "data": {
      "text/plain": [
       "array([0, 1, 2], dtype=int64)"
      ]
     },
     "execution_count": 12,
     "metadata": {},
     "output_type": "execute_result"
    }
   ],
   "source": [
    "df.UrbanRural.unique()"
   ]
  },
  {
   "cell_type": "code",
   "execution_count": 13,
   "id": "6a7b6b49",
   "metadata": {},
   "outputs": [
    {
     "data": {
      "text/plain": [
       "array(['Y', 'N', 'C', '1', nan, 'S', 'R', 'A', '0'], dtype=object)"
      ]
     },
     "execution_count": 13,
     "metadata": {},
     "output_type": "execute_result"
    }
   ],
   "source": [
    "df.LowDoc.unique()\n"
   ]
  },
  {
   "cell_type": "code",
   "execution_count": 14,
   "id": "97a75fdc",
   "metadata": {},
   "outputs": [
    {
     "data": {
      "text/plain": [
       "array(['N', 'Y', '0', 'T', '`', ',', nan, '1', 'C', '2', 'R', '7', 'A',\n",
       "       '-', 'Q'], dtype=object)"
      ]
     },
     "execution_count": 14,
     "metadata": {},
     "output_type": "execute_result"
    }
   ],
   "source": [
    "df.RevLineCr.unique()"
   ]
  },
  {
   "attachments": {},
   "cell_type": "markdown",
   "id": "693e47be",
   "metadata": {},
   "source": [
    "removing non-\"Y or N\" values"
   ]
  },
  {
   "cell_type": "code",
   "execution_count": 15,
   "id": "a2841816",
   "metadata": {},
   "outputs": [],
   "source": [
    "df = df[(df['RevLineCr'] == 'Y') | (df['RevLineCr'] == 'N')]\n",
    "df = df[(df['LowDoc'] == 'Y') | (df['LowDoc'] == 'N')]"
   ]
  },
  {
   "cell_type": "code",
   "execution_count": 16,
   "id": "139aad10",
   "metadata": {},
   "outputs": [
    {
     "data": {
      "text/plain": [
       "(460107, 19)"
      ]
     },
     "execution_count": 16,
     "metadata": {},
     "output_type": "execute_result"
    }
   ],
   "source": [
    "df.shape"
   ]
  },
  {
   "cell_type": "code",
   "execution_count": 17,
   "id": "ea350a93",
   "metadata": {
    "scrolled": true
   },
   "outputs": [],
   "source": [
    "#pd.set_option('display.max_columns', None)\n",
    "#df = df.drop(df[df['Cancelled'] == 1].index)\n",
    "#df['DATE'] = pd.to_datetime(df[['Year', 'Month']].assign(DAY=df[['DayofMonth']]))\n",
    "#df.tail()"
   ]
  },
  {
   "cell_type": "code",
   "execution_count": 18,
   "id": "3d64fd7f",
   "metadata": {},
   "outputs": [],
   "source": [
    "df[['DisbursementGross', 'GrAppv', 'SBA_Appv']] = df[['DisbursementGross', 'GrAppv', 'SBA_Appv']].applymap(lambda x: x.strip().replace('$', '').replace(',', ''))"
   ]
  },
  {
   "cell_type": "code",
   "execution_count": 19,
   "id": "e0e553dc",
   "metadata": {},
   "outputs": [],
   "source": [
    "df['SameState'] = np.where(df['State'] == df['BankState'], 1, 0)"
   ]
  },
  {
   "cell_type": "code",
   "execution_count": 20,
   "id": "27ef9bfb",
   "metadata": {
    "scrolled": true
   },
   "outputs": [
    {
     "data": {
      "text/plain": [
       "State                 object\n",
       "BankState             object\n",
       "ApprovalDate          object\n",
       "ApprovalFY            object\n",
       "Term                   int64\n",
       "NoEmp                  int64\n",
       "NewExist             float64\n",
       "CreateJob              int64\n",
       "RetainedJob            int64\n",
       "UrbanRural             int64\n",
       "RevLineCr             object\n",
       "LowDoc                object\n",
       "DisbursementDate      object\n",
       "DisbursementGross     object\n",
       "MIS_Status            object\n",
       "GrAppv                object\n",
       "SBA_Appv              object\n",
       "NAICS_Industry        object\n",
       "Franchise            float64\n",
       "SameState              int32\n",
       "dtype: object"
      ]
     },
     "execution_count": 20,
     "metadata": {},
     "output_type": "execute_result"
    }
   ],
   "source": [
    "df.dtypes"
   ]
  },
  {
   "attachments": {},
   "cell_type": "markdown",
   "id": "b9d4663e",
   "metadata": {},
   "source": [
    "Changing Types of Columns"
   ]
  },
  {
   "cell_type": "code",
   "execution_count": 21,
   "id": "59a3e5e3",
   "metadata": {},
   "outputs": [],
   "source": [
    "df = df.astype({ 'UrbanRural': 'str', 'DisbursementGross': 'float', 'SBA_Appv': 'float', 'GrAppv': 'float', 'ApprovalFY': 'int64', 'Franchise' : 'float64'})"
   ]
  },
  {
   "cell_type": "code",
   "execution_count": 22,
   "id": "f765c3eb",
   "metadata": {},
   "outputs": [
    {
     "data": {
      "text/plain": [
       "State                 object\n",
       "BankState             object\n",
       "ApprovalDate          object\n",
       "ApprovalFY             int64\n",
       "Term                   int64\n",
       "NoEmp                  int64\n",
       "NewExist             float64\n",
       "CreateJob              int64\n",
       "RetainedJob            int64\n",
       "UrbanRural            object\n",
       "RevLineCr             object\n",
       "LowDoc                object\n",
       "DisbursementDate      object\n",
       "DisbursementGross    float64\n",
       "MIS_Status            object\n",
       "GrAppv               float64\n",
       "SBA_Appv             float64\n",
       "NAICS_Industry        object\n",
       "Franchise            float64\n",
       "SameState              int32\n",
       "dtype: object"
      ]
     },
     "execution_count": 22,
     "metadata": {},
     "output_type": "execute_result"
    }
   ],
   "source": [
    "df.dtypes"
   ]
  },
  {
   "cell_type": "code",
   "execution_count": 23,
   "id": "04fe474d",
   "metadata": {
    "scrolled": true
   },
   "outputs": [
    {
     "data": {
      "text/plain": [
       "array([1997, 2006, 1998, 1999, 2000, 2001, 2003, 2004, 2005, 1984, 2007,\n",
       "       1987, 2008, 1988, 2009, 1989, 1990, 2010, 1991, 2011, 1992, 2002,\n",
       "       2012, 1993, 2013, 1994, 2014, 1995, 1996], dtype=int64)"
      ]
     },
     "execution_count": 23,
     "metadata": {},
     "output_type": "execute_result"
    }
   ],
   "source": [
    "df.ApprovalFY.unique()"
   ]
  },
  {
   "cell_type": "code",
   "execution_count": 24,
   "id": "66ad3906",
   "metadata": {},
   "outputs": [
    {
     "data": {
      "text/plain": [
       "P I F     361524\n",
       "CHGOFF     98583\n",
       "Name: MIS_Status, dtype: int64"
      ]
     },
     "execution_count": 24,
     "metadata": {},
     "output_type": "execute_result"
    }
   ],
   "source": [
    "df['MIS_Status'].value_counts()"
   ]
  },
  {
   "attachments": {},
   "cell_type": "markdown",
   "id": "8a073093",
   "metadata": {},
   "source": [
    "To LabelEncode\n",
    "LowDoc , RevLineCr"
   ]
  },
  {
   "cell_type": "code",
   "execution_count": 25,
   "id": "74d93957",
   "metadata": {
    "scrolled": true
   },
   "outputs": [
    {
     "data": {
      "text/html": [
       "<div>\n",
       "<style scoped>\n",
       "    .dataframe tbody tr th:only-of-type {\n",
       "        vertical-align: middle;\n",
       "    }\n",
       "\n",
       "    .dataframe tbody tr th {\n",
       "        vertical-align: top;\n",
       "    }\n",
       "\n",
       "    .dataframe thead th {\n",
       "        text-align: right;\n",
       "    }\n",
       "</style>\n",
       "<table border=\"1\" class=\"dataframe\">\n",
       "  <thead>\n",
       "    <tr style=\"text-align: right;\">\n",
       "      <th></th>\n",
       "      <th>State</th>\n",
       "      <th>BankState</th>\n",
       "      <th>ApprovalDate</th>\n",
       "      <th>ApprovalFY</th>\n",
       "      <th>Term</th>\n",
       "      <th>NoEmp</th>\n",
       "      <th>NewExist</th>\n",
       "      <th>CreateJob</th>\n",
       "      <th>RetainedJob</th>\n",
       "      <th>UrbanRural</th>\n",
       "      <th>RevLineCr</th>\n",
       "      <th>LowDoc</th>\n",
       "      <th>DisbursementDate</th>\n",
       "      <th>DisbursementGross</th>\n",
       "      <th>MIS_Status</th>\n",
       "      <th>GrAppv</th>\n",
       "      <th>SBA_Appv</th>\n",
       "      <th>NAICS_Industry</th>\n",
       "      <th>Franchise</th>\n",
       "      <th>SameState</th>\n",
       "    </tr>\n",
       "  </thead>\n",
       "  <tbody>\n",
       "    <tr>\n",
       "      <th>0</th>\n",
       "      <td>IN</td>\n",
       "      <td>OH</td>\n",
       "      <td>28-Feb-97</td>\n",
       "      <td>1997</td>\n",
       "      <td>84</td>\n",
       "      <td>4</td>\n",
       "      <td>2.0</td>\n",
       "      <td>0</td>\n",
       "      <td>0</td>\n",
       "      <td>0</td>\n",
       "      <td>0</td>\n",
       "      <td>1</td>\n",
       "      <td>28-Feb-99</td>\n",
       "      <td>60000.0</td>\n",
       "      <td>1</td>\n",
       "      <td>60000.0</td>\n",
       "      <td>48000.0</td>\n",
       "      <td>Retail_trade</td>\n",
       "      <td>0.0</td>\n",
       "      <td>0</td>\n",
       "    </tr>\n",
       "    <tr>\n",
       "      <th>1</th>\n",
       "      <td>IN</td>\n",
       "      <td>IN</td>\n",
       "      <td>28-Feb-97</td>\n",
       "      <td>1997</td>\n",
       "      <td>60</td>\n",
       "      <td>2</td>\n",
       "      <td>2.0</td>\n",
       "      <td>0</td>\n",
       "      <td>0</td>\n",
       "      <td>0</td>\n",
       "      <td>0</td>\n",
       "      <td>1</td>\n",
       "      <td>31-May-97</td>\n",
       "      <td>40000.0</td>\n",
       "      <td>1</td>\n",
       "      <td>40000.0</td>\n",
       "      <td>32000.0</td>\n",
       "      <td>Accommodation_foodservices</td>\n",
       "      <td>0.0</td>\n",
       "      <td>1</td>\n",
       "    </tr>\n",
       "    <tr>\n",
       "      <th>2</th>\n",
       "      <td>IN</td>\n",
       "      <td>IN</td>\n",
       "      <td>28-Feb-97</td>\n",
       "      <td>1997</td>\n",
       "      <td>180</td>\n",
       "      <td>7</td>\n",
       "      <td>1.0</td>\n",
       "      <td>0</td>\n",
       "      <td>0</td>\n",
       "      <td>0</td>\n",
       "      <td>0</td>\n",
       "      <td>0</td>\n",
       "      <td>31-Dec-97</td>\n",
       "      <td>287000.0</td>\n",
       "      <td>1</td>\n",
       "      <td>287000.0</td>\n",
       "      <td>215250.0</td>\n",
       "      <td>Healthcare_socialassistance</td>\n",
       "      <td>0.0</td>\n",
       "      <td>1</td>\n",
       "    </tr>\n",
       "    <tr>\n",
       "      <th>5</th>\n",
       "      <td>CT</td>\n",
       "      <td>DE</td>\n",
       "      <td>28-Feb-97</td>\n",
       "      <td>1997</td>\n",
       "      <td>120</td>\n",
       "      <td>19</td>\n",
       "      <td>1.0</td>\n",
       "      <td>0</td>\n",
       "      <td>0</td>\n",
       "      <td>0</td>\n",
       "      <td>0</td>\n",
       "      <td>0</td>\n",
       "      <td>30-Jun-97</td>\n",
       "      <td>517000.0</td>\n",
       "      <td>1</td>\n",
       "      <td>517000.0</td>\n",
       "      <td>387750.0</td>\n",
       "      <td>Manufacturing</td>\n",
       "      <td>0.0</td>\n",
       "      <td>0</td>\n",
       "    </tr>\n",
       "    <tr>\n",
       "      <th>7</th>\n",
       "      <td>FL</td>\n",
       "      <td>AL</td>\n",
       "      <td>28-Feb-97</td>\n",
       "      <td>1997</td>\n",
       "      <td>84</td>\n",
       "      <td>1</td>\n",
       "      <td>2.0</td>\n",
       "      <td>0</td>\n",
       "      <td>0</td>\n",
       "      <td>0</td>\n",
       "      <td>0</td>\n",
       "      <td>1</td>\n",
       "      <td>30-Jun-98</td>\n",
       "      <td>45000.0</td>\n",
       "      <td>1</td>\n",
       "      <td>45000.0</td>\n",
       "      <td>36000.0</td>\n",
       "      <td>Other</td>\n",
       "      <td>0.0</td>\n",
       "      <td>0</td>\n",
       "    </tr>\n",
       "  </tbody>\n",
       "</table>\n",
       "</div>"
      ],
      "text/plain": [
       "  State BankState ApprovalDate  ApprovalFY  Term  NoEmp  NewExist  CreateJob  \\\n",
       "0    IN        OH    28-Feb-97        1997    84      4       2.0          0   \n",
       "1    IN        IN    28-Feb-97        1997    60      2       2.0          0   \n",
       "2    IN        IN    28-Feb-97        1997   180      7       1.0          0   \n",
       "5    CT        DE    28-Feb-97        1997   120     19       1.0          0   \n",
       "7    FL        AL    28-Feb-97        1997    84      1       2.0          0   \n",
       "\n",
       "   RetainedJob  UrbanRural  RevLineCr  LowDoc DisbursementDate  \\\n",
       "0            0           0          0       1        28-Feb-99   \n",
       "1            0           0          0       1        31-May-97   \n",
       "2            0           0          0       0        31-Dec-97   \n",
       "5            0           0          0       0        30-Jun-97   \n",
       "7            0           0          0       1        30-Jun-98   \n",
       "\n",
       "   DisbursementGross  MIS_Status    GrAppv  SBA_Appv  \\\n",
       "0            60000.0           1   60000.0   48000.0   \n",
       "1            40000.0           1   40000.0   32000.0   \n",
       "2           287000.0           1  287000.0  215250.0   \n",
       "5           517000.0           1  517000.0  387750.0   \n",
       "7            45000.0           1   45000.0   36000.0   \n",
       "\n",
       "                NAICS_Industry  Franchise  SameState  \n",
       "0                 Retail_trade        0.0          0  \n",
       "1   Accommodation_foodservices        0.0          1  \n",
       "2  Healthcare_socialassistance        0.0          1  \n",
       "5                Manufacturing        0.0          0  \n",
       "7                        Other        0.0          0  "
      ]
     },
     "execution_count": 25,
     "metadata": {},
     "output_type": "execute_result"
    }
   ],
   "source": [
    "from sklearn.preprocessing import LabelEncoder\n",
    "\n",
    "le = LabelEncoder()\n",
    "\n",
    "# Label encoding symbolic values\n",
    "le = LabelEncoder()\n",
    "df[['LowDoc', 'UrbanRural', 'RevLineCr', 'MIS_Status']]=df[['LowDoc', 'UrbanRural', 'RevLineCr', 'MIS_Status']].apply(le.fit_transform)\n",
    "#df = df.drop(columns = ['address'])\n",
    "#X = df.iloc[:, :29]\n",
    "#y = df.iloc[:, 29]\n",
    "\n",
    "df.head()"
   ]
  },
  {
   "cell_type": "code",
   "execution_count": 26,
   "id": "80ee1926",
   "metadata": {},
   "outputs": [
    {
     "data": {
      "text/plain": [
       "1    361524\n",
       "0     98583\n",
       "Name: MIS_Status, dtype: int64"
      ]
     },
     "execution_count": 26,
     "metadata": {},
     "output_type": "execute_result"
    }
   ],
   "source": [
    "df['MIS_Status'].value_counts()"
   ]
  },
  {
   "cell_type": "code",
   "execution_count": 27,
   "id": "65bdaecb",
   "metadata": {},
   "outputs": [
    {
     "data": {
      "text/plain": [
       "array([0., 1.])"
      ]
     },
     "execution_count": 27,
     "metadata": {},
     "output_type": "execute_result"
    }
   ],
   "source": [
    "df.Franchise.unique()"
   ]
  },
  {
   "cell_type": "code",
   "execution_count": 28,
   "id": "84468fcd",
   "metadata": {},
   "outputs": [],
   "source": [
    "df[['ApprovalDate', 'DisbursementDate']] = df[['ApprovalDate', 'DisbursementDate']].apply(pd.to_datetime)\n",
    "\n",
    "df.drop(columns=['ApprovalDate', 'DisbursementDate'], inplace=True)"
   ]
  },
  {
   "cell_type": "code",
   "execution_count": 29,
   "id": "b0bc732f",
   "metadata": {
    "scrolled": true
   },
   "outputs": [
    {
     "data": {
      "text/plain": [
       "State                 object\n",
       "BankState             object\n",
       "ApprovalFY             int64\n",
       "Term                   int64\n",
       "NoEmp                  int64\n",
       "NewExist             float64\n",
       "CreateJob              int64\n",
       "RetainedJob            int64\n",
       "UrbanRural             int32\n",
       "RevLineCr              int32\n",
       "LowDoc                 int32\n",
       "DisbursementGross    float64\n",
       "MIS_Status             int32\n",
       "GrAppv               float64\n",
       "SBA_Appv             float64\n",
       "NAICS_Industry        object\n",
       "Franchise            float64\n",
       "SameState              int32\n",
       "dtype: object"
      ]
     },
     "execution_count": 29,
     "metadata": {},
     "output_type": "execute_result"
    }
   ],
   "source": [
    "df.dtypes"
   ]
  },
  {
   "cell_type": "code",
   "execution_count": 30,
   "id": "4a654bfb",
   "metadata": {
    "scrolled": false
   },
   "outputs": [
    {
     "data": {
      "text/plain": [
       "State                  8\n",
       "BankState            611\n",
       "ApprovalFY             0\n",
       "Term                   0\n",
       "NoEmp                  0\n",
       "NewExist             129\n",
       "CreateJob              0\n",
       "RetainedJob            0\n",
       "UrbanRural             0\n",
       "RevLineCr              0\n",
       "LowDoc                 0\n",
       "DisbursementGross      0\n",
       "MIS_Status             0\n",
       "GrAppv                 0\n",
       "SBA_Appv               0\n",
       "NAICS_Industry         0\n",
       "Franchise              0\n",
       "SameState              0\n",
       "dtype: int64"
      ]
     },
     "execution_count": 30,
     "metadata": {},
     "output_type": "execute_result"
    }
   ],
   "source": [
    "df.isnull().sum()"
   ]
  },
  {
   "cell_type": "code",
   "execution_count": 31,
   "id": "ac3c2ae7",
   "metadata": {},
   "outputs": [
    {
     "data": {
      "text/plain": [
       "(460107, 18)"
      ]
     },
     "execution_count": 31,
     "metadata": {},
     "output_type": "execute_result"
    }
   ],
   "source": [
    "df.shape"
   ]
  },
  {
   "cell_type": "code",
   "execution_count": 32,
   "id": "2fda47cf",
   "metadata": {},
   "outputs": [],
   "source": [
    "df =df[~df.isin([np.nan, np.inf, -np.inf]).any(1)]"
   ]
  },
  {
   "cell_type": "code",
   "execution_count": 33,
   "id": "44dfc8a2",
   "metadata": {},
   "outputs": [
    {
     "data": {
      "text/plain": [
       "State                0\n",
       "BankState            0\n",
       "ApprovalFY           0\n",
       "Term                 0\n",
       "NoEmp                0\n",
       "NewExist             0\n",
       "CreateJob            0\n",
       "RetainedJob          0\n",
       "UrbanRural           0\n",
       "RevLineCr            0\n",
       "LowDoc               0\n",
       "DisbursementGross    0\n",
       "MIS_Status           0\n",
       "GrAppv               0\n",
       "SBA_Appv             0\n",
       "NAICS_Industry       0\n",
       "Franchise            0\n",
       "SameState            0\n",
       "dtype: int64"
      ]
     },
     "execution_count": 33,
     "metadata": {},
     "output_type": "execute_result"
    }
   ],
   "source": [
    "df.isnull().sum()"
   ]
  },
  {
   "cell_type": "code",
   "execution_count": 34,
   "id": "2ce9f4c9",
   "metadata": {},
   "outputs": [
    {
     "data": {
      "text/plain": [
       "(459359, 18)"
      ]
     },
     "execution_count": 34,
     "metadata": {},
     "output_type": "execute_result"
    }
   ],
   "source": [
    "df.shape"
   ]
  },
  {
   "cell_type": "code",
   "execution_count": 35,
   "id": "68e7dbc5",
   "metadata": {},
   "outputs": [
    {
     "data": {
      "text/html": [
       "<div>\n",
       "<style scoped>\n",
       "    .dataframe tbody tr th:only-of-type {\n",
       "        vertical-align: middle;\n",
       "    }\n",
       "\n",
       "    .dataframe tbody tr th {\n",
       "        vertical-align: top;\n",
       "    }\n",
       "\n",
       "    .dataframe thead th {\n",
       "        text-align: right;\n",
       "    }\n",
       "</style>\n",
       "<table border=\"1\" class=\"dataframe\">\n",
       "  <thead>\n",
       "    <tr style=\"text-align: right;\">\n",
       "      <th></th>\n",
       "      <th>ApprovalFY</th>\n",
       "      <th>Term</th>\n",
       "      <th>NoEmp</th>\n",
       "      <th>NewExist</th>\n",
       "      <th>CreateJob</th>\n",
       "      <th>RetainedJob</th>\n",
       "      <th>UrbanRural</th>\n",
       "      <th>RevLineCr</th>\n",
       "      <th>LowDoc</th>\n",
       "      <th>DisbursementGross</th>\n",
       "      <th>...</th>\n",
       "      <th>NAICS_Industry_Manufacturing</th>\n",
       "      <th>NAICS_Industry_Mining_quarrying_oil_gas</th>\n",
       "      <th>NAICS_Industry_Other</th>\n",
       "      <th>NAICS_Industry_Professional_scientific_technicalservices</th>\n",
       "      <th>NAICS_Industry_Public_administration</th>\n",
       "      <th>NAICS_Industry_Realestate_rental_leasing</th>\n",
       "      <th>NAICS_Industry_Retail_trade</th>\n",
       "      <th>NAICS_Industry_Transportation_warehousing</th>\n",
       "      <th>NAICS_Industry_Utilities</th>\n",
       "      <th>NAICS_Industry_Wholesale_trade</th>\n",
       "    </tr>\n",
       "  </thead>\n",
       "  <tbody>\n",
       "    <tr>\n",
       "      <th>0</th>\n",
       "      <td>1997</td>\n",
       "      <td>84</td>\n",
       "      <td>4</td>\n",
       "      <td>2.0</td>\n",
       "      <td>0</td>\n",
       "      <td>0</td>\n",
       "      <td>0</td>\n",
       "      <td>0</td>\n",
       "      <td>1</td>\n",
       "      <td>60000.0</td>\n",
       "      <td>...</td>\n",
       "      <td>0</td>\n",
       "      <td>0</td>\n",
       "      <td>0</td>\n",
       "      <td>0</td>\n",
       "      <td>0</td>\n",
       "      <td>0</td>\n",
       "      <td>1</td>\n",
       "      <td>0</td>\n",
       "      <td>0</td>\n",
       "      <td>0</td>\n",
       "    </tr>\n",
       "    <tr>\n",
       "      <th>1</th>\n",
       "      <td>1997</td>\n",
       "      <td>60</td>\n",
       "      <td>2</td>\n",
       "      <td>2.0</td>\n",
       "      <td>0</td>\n",
       "      <td>0</td>\n",
       "      <td>0</td>\n",
       "      <td>0</td>\n",
       "      <td>1</td>\n",
       "      <td>40000.0</td>\n",
       "      <td>...</td>\n",
       "      <td>0</td>\n",
       "      <td>0</td>\n",
       "      <td>0</td>\n",
       "      <td>0</td>\n",
       "      <td>0</td>\n",
       "      <td>0</td>\n",
       "      <td>0</td>\n",
       "      <td>0</td>\n",
       "      <td>0</td>\n",
       "      <td>0</td>\n",
       "    </tr>\n",
       "    <tr>\n",
       "      <th>2</th>\n",
       "      <td>1997</td>\n",
       "      <td>180</td>\n",
       "      <td>7</td>\n",
       "      <td>1.0</td>\n",
       "      <td>0</td>\n",
       "      <td>0</td>\n",
       "      <td>0</td>\n",
       "      <td>0</td>\n",
       "      <td>0</td>\n",
       "      <td>287000.0</td>\n",
       "      <td>...</td>\n",
       "      <td>0</td>\n",
       "      <td>0</td>\n",
       "      <td>0</td>\n",
       "      <td>0</td>\n",
       "      <td>0</td>\n",
       "      <td>0</td>\n",
       "      <td>0</td>\n",
       "      <td>0</td>\n",
       "      <td>0</td>\n",
       "      <td>0</td>\n",
       "    </tr>\n",
       "    <tr>\n",
       "      <th>5</th>\n",
       "      <td>1997</td>\n",
       "      <td>120</td>\n",
       "      <td>19</td>\n",
       "      <td>1.0</td>\n",
       "      <td>0</td>\n",
       "      <td>0</td>\n",
       "      <td>0</td>\n",
       "      <td>0</td>\n",
       "      <td>0</td>\n",
       "      <td>517000.0</td>\n",
       "      <td>...</td>\n",
       "      <td>1</td>\n",
       "      <td>0</td>\n",
       "      <td>0</td>\n",
       "      <td>0</td>\n",
       "      <td>0</td>\n",
       "      <td>0</td>\n",
       "      <td>0</td>\n",
       "      <td>0</td>\n",
       "      <td>0</td>\n",
       "      <td>0</td>\n",
       "    </tr>\n",
       "    <tr>\n",
       "      <th>7</th>\n",
       "      <td>1997</td>\n",
       "      <td>84</td>\n",
       "      <td>1</td>\n",
       "      <td>2.0</td>\n",
       "      <td>0</td>\n",
       "      <td>0</td>\n",
       "      <td>0</td>\n",
       "      <td>0</td>\n",
       "      <td>1</td>\n",
       "      <td>45000.0</td>\n",
       "      <td>...</td>\n",
       "      <td>0</td>\n",
       "      <td>0</td>\n",
       "      <td>1</td>\n",
       "      <td>0</td>\n",
       "      <td>0</td>\n",
       "      <td>0</td>\n",
       "      <td>0</td>\n",
       "      <td>0</td>\n",
       "      <td>0</td>\n",
       "      <td>0</td>\n",
       "    </tr>\n",
       "  </tbody>\n",
       "</table>\n",
       "<p>5 rows × 140 columns</p>\n",
       "</div>"
      ],
      "text/plain": [
       "   ApprovalFY  Term  NoEmp  NewExist  CreateJob  RetainedJob  UrbanRural  \\\n",
       "0        1997    84      4       2.0          0            0           0   \n",
       "1        1997    60      2       2.0          0            0           0   \n",
       "2        1997   180      7       1.0          0            0           0   \n",
       "5        1997   120     19       1.0          0            0           0   \n",
       "7        1997    84      1       2.0          0            0           0   \n",
       "\n",
       "   RevLineCr  LowDoc  DisbursementGross  ...  NAICS_Industry_Manufacturing  \\\n",
       "0          0       1            60000.0  ...                             0   \n",
       "1          0       1            40000.0  ...                             0   \n",
       "2          0       0           287000.0  ...                             0   \n",
       "5          0       0           517000.0  ...                             1   \n",
       "7          0       1            45000.0  ...                             0   \n",
       "\n",
       "   NAICS_Industry_Mining_quarrying_oil_gas  NAICS_Industry_Other  \\\n",
       "0                                        0                     0   \n",
       "1                                        0                     0   \n",
       "2                                        0                     0   \n",
       "5                                        0                     0   \n",
       "7                                        0                     1   \n",
       "\n",
       "   NAICS_Industry_Professional_scientific_technicalservices  \\\n",
       "0                                                  0          \n",
       "1                                                  0          \n",
       "2                                                  0          \n",
       "5                                                  0          \n",
       "7                                                  0          \n",
       "\n",
       "   NAICS_Industry_Public_administration  \\\n",
       "0                                     0   \n",
       "1                                     0   \n",
       "2                                     0   \n",
       "5                                     0   \n",
       "7                                     0   \n",
       "\n",
       "   NAICS_Industry_Realestate_rental_leasing  NAICS_Industry_Retail_trade  \\\n",
       "0                                         0                            1   \n",
       "1                                         0                            0   \n",
       "2                                         0                            0   \n",
       "5                                         0                            0   \n",
       "7                                         0                            0   \n",
       "\n",
       "   NAICS_Industry_Transportation_warehousing  NAICS_Industry_Utilities  \\\n",
       "0                                          0                         0   \n",
       "1                                          0                         0   \n",
       "2                                          0                         0   \n",
       "5                                          0                         0   \n",
       "7                                          0                         0   \n",
       "\n",
       "   NAICS_Industry_Wholesale_trade  \n",
       "0                               0  \n",
       "1                               0  \n",
       "2                               0  \n",
       "5                               0  \n",
       "7                               0  \n",
       "\n",
       "[5 rows x 140 columns]"
      ]
     },
     "execution_count": 35,
     "metadata": {},
     "output_type": "execute_result"
    }
   ],
   "source": [
    "# One-hot encode categorical data\n",
    "df = pd.get_dummies(df)\n",
    "\n",
    "df.head()"
   ]
  },
  {
   "cell_type": "code",
   "execution_count": 36,
   "id": "e2b69de3",
   "metadata": {
    "scrolled": true
   },
   "outputs": [
    {
     "data": {
      "text/plain": [
       "ApprovalFY                                     int64\n",
       "Term                                           int64\n",
       "NoEmp                                          int64\n",
       "NewExist                                     float64\n",
       "CreateJob                                      int64\n",
       "                                              ...   \n",
       "NAICS_Industry_Realestate_rental_leasing       uint8\n",
       "NAICS_Industry_Retail_trade                    uint8\n",
       "NAICS_Industry_Transportation_warehousing      uint8\n",
       "NAICS_Industry_Utilities                       uint8\n",
       "NAICS_Industry_Wholesale_trade                 uint8\n",
       "Length: 140, dtype: object"
      ]
     },
     "execution_count": 36,
     "metadata": {},
     "output_type": "execute_result"
    }
   ],
   "source": [
    "df.dtypes"
   ]
  },
  {
   "cell_type": "code",
   "execution_count": 37,
   "id": "44af2f54",
   "metadata": {
    "scrolled": true
   },
   "outputs": [
    {
     "data": {
      "text/html": [
       "<div>\n",
       "<style scoped>\n",
       "    .dataframe tbody tr th:only-of-type {\n",
       "        vertical-align: middle;\n",
       "    }\n",
       "\n",
       "    .dataframe tbody tr th {\n",
       "        vertical-align: top;\n",
       "    }\n",
       "\n",
       "    .dataframe thead th {\n",
       "        text-align: right;\n",
       "    }\n",
       "</style>\n",
       "<table border=\"1\" class=\"dataframe\">\n",
       "  <thead>\n",
       "    <tr style=\"text-align: right;\">\n",
       "      <th></th>\n",
       "      <th>ApprovalFY</th>\n",
       "      <th>Term</th>\n",
       "      <th>NoEmp</th>\n",
       "      <th>NewExist</th>\n",
       "      <th>CreateJob</th>\n",
       "      <th>RetainedJob</th>\n",
       "      <th>UrbanRural</th>\n",
       "      <th>RevLineCr</th>\n",
       "      <th>LowDoc</th>\n",
       "      <th>DisbursementGross</th>\n",
       "      <th>...</th>\n",
       "      <th>NAICS_Industry_Manufacturing</th>\n",
       "      <th>NAICS_Industry_Mining_quarrying_oil_gas</th>\n",
       "      <th>NAICS_Industry_Other</th>\n",
       "      <th>NAICS_Industry_Professional_scientific_technicalservices</th>\n",
       "      <th>NAICS_Industry_Public_administration</th>\n",
       "      <th>NAICS_Industry_Realestate_rental_leasing</th>\n",
       "      <th>NAICS_Industry_Retail_trade</th>\n",
       "      <th>NAICS_Industry_Transportation_warehousing</th>\n",
       "      <th>NAICS_Industry_Utilities</th>\n",
       "      <th>NAICS_Industry_Wholesale_trade</th>\n",
       "    </tr>\n",
       "  </thead>\n",
       "  <tbody>\n",
       "    <tr>\n",
       "      <th>899145</th>\n",
       "      <td>1997</td>\n",
       "      <td>60</td>\n",
       "      <td>5</td>\n",
       "      <td>1.0</td>\n",
       "      <td>0</td>\n",
       "      <td>0</td>\n",
       "      <td>0</td>\n",
       "      <td>1</td>\n",
       "      <td>0</td>\n",
       "      <td>25000.0</td>\n",
       "      <td>...</td>\n",
       "      <td>0</td>\n",
       "      <td>0</td>\n",
       "      <td>0</td>\n",
       "      <td>0</td>\n",
       "      <td>0</td>\n",
       "      <td>0</td>\n",
       "      <td>0</td>\n",
       "      <td>0</td>\n",
       "      <td>0</td>\n",
       "      <td>0</td>\n",
       "    </tr>\n",
       "    <tr>\n",
       "      <th>899146</th>\n",
       "      <td>1997</td>\n",
       "      <td>240</td>\n",
       "      <td>8</td>\n",
       "      <td>1.0</td>\n",
       "      <td>4</td>\n",
       "      <td>0</td>\n",
       "      <td>0</td>\n",
       "      <td>0</td>\n",
       "      <td>0</td>\n",
       "      <td>189000.0</td>\n",
       "      <td>...</td>\n",
       "      <td>1</td>\n",
       "      <td>0</td>\n",
       "      <td>0</td>\n",
       "      <td>0</td>\n",
       "      <td>0</td>\n",
       "      <td>0</td>\n",
       "      <td>0</td>\n",
       "      <td>0</td>\n",
       "      <td>0</td>\n",
       "      <td>0</td>\n",
       "    </tr>\n",
       "    <tr>\n",
       "      <th>899157</th>\n",
       "      <td>1997</td>\n",
       "      <td>36</td>\n",
       "      <td>40</td>\n",
       "      <td>1.0</td>\n",
       "      <td>0</td>\n",
       "      <td>0</td>\n",
       "      <td>0</td>\n",
       "      <td>0</td>\n",
       "      <td>0</td>\n",
       "      <td>200000.0</td>\n",
       "      <td>...</td>\n",
       "      <td>1</td>\n",
       "      <td>0</td>\n",
       "      <td>0</td>\n",
       "      <td>0</td>\n",
       "      <td>0</td>\n",
       "      <td>0</td>\n",
       "      <td>0</td>\n",
       "      <td>0</td>\n",
       "      <td>0</td>\n",
       "      <td>0</td>\n",
       "    </tr>\n",
       "    <tr>\n",
       "      <th>899160</th>\n",
       "      <td>1997</td>\n",
       "      <td>60</td>\n",
       "      <td>6</td>\n",
       "      <td>1.0</td>\n",
       "      <td>0</td>\n",
       "      <td>0</td>\n",
       "      <td>0</td>\n",
       "      <td>1</td>\n",
       "      <td>0</td>\n",
       "      <td>85000.0</td>\n",
       "      <td>...</td>\n",
       "      <td>0</td>\n",
       "      <td>0</td>\n",
       "      <td>0</td>\n",
       "      <td>0</td>\n",
       "      <td>0</td>\n",
       "      <td>0</td>\n",
       "      <td>1</td>\n",
       "      <td>0</td>\n",
       "      <td>0</td>\n",
       "      <td>0</td>\n",
       "    </tr>\n",
       "    <tr>\n",
       "      <th>899161</th>\n",
       "      <td>1997</td>\n",
       "      <td>108</td>\n",
       "      <td>26</td>\n",
       "      <td>1.0</td>\n",
       "      <td>0</td>\n",
       "      <td>0</td>\n",
       "      <td>0</td>\n",
       "      <td>0</td>\n",
       "      <td>0</td>\n",
       "      <td>300000.0</td>\n",
       "      <td>...</td>\n",
       "      <td>1</td>\n",
       "      <td>0</td>\n",
       "      <td>0</td>\n",
       "      <td>0</td>\n",
       "      <td>0</td>\n",
       "      <td>0</td>\n",
       "      <td>0</td>\n",
       "      <td>0</td>\n",
       "      <td>0</td>\n",
       "      <td>0</td>\n",
       "    </tr>\n",
       "  </tbody>\n",
       "</table>\n",
       "<p>5 rows × 140 columns</p>\n",
       "</div>"
      ],
      "text/plain": [
       "        ApprovalFY  Term  NoEmp  NewExist  CreateJob  RetainedJob  UrbanRural  \\\n",
       "899145        1997    60      5       1.0          0            0           0   \n",
       "899146        1997   240      8       1.0          4            0           0   \n",
       "899157        1997    36     40       1.0          0            0           0   \n",
       "899160        1997    60      6       1.0          0            0           0   \n",
       "899161        1997   108     26       1.0          0            0           0   \n",
       "\n",
       "        RevLineCr  LowDoc  DisbursementGross  ...  \\\n",
       "899145          1       0            25000.0  ...   \n",
       "899146          0       0           189000.0  ...   \n",
       "899157          0       0           200000.0  ...   \n",
       "899160          1       0            85000.0  ...   \n",
       "899161          0       0           300000.0  ...   \n",
       "\n",
       "        NAICS_Industry_Manufacturing  NAICS_Industry_Mining_quarrying_oil_gas  \\\n",
       "899145                             0                                        0   \n",
       "899146                             1                                        0   \n",
       "899157                             1                                        0   \n",
       "899160                             0                                        0   \n",
       "899161                             1                                        0   \n",
       "\n",
       "        NAICS_Industry_Other  \\\n",
       "899145                     0   \n",
       "899146                     0   \n",
       "899157                     0   \n",
       "899160                     0   \n",
       "899161                     0   \n",
       "\n",
       "        NAICS_Industry_Professional_scientific_technicalservices  \\\n",
       "899145                                                  0          \n",
       "899146                                                  0          \n",
       "899157                                                  0          \n",
       "899160                                                  0          \n",
       "899161                                                  0          \n",
       "\n",
       "        NAICS_Industry_Public_administration  \\\n",
       "899145                                     0   \n",
       "899146                                     0   \n",
       "899157                                     0   \n",
       "899160                                     0   \n",
       "899161                                     0   \n",
       "\n",
       "        NAICS_Industry_Realestate_rental_leasing  NAICS_Industry_Retail_trade  \\\n",
       "899145                                         0                            0   \n",
       "899146                                         0                            0   \n",
       "899157                                         0                            0   \n",
       "899160                                         0                            1   \n",
       "899161                                         0                            0   \n",
       "\n",
       "        NAICS_Industry_Transportation_warehousing  NAICS_Industry_Utilities  \\\n",
       "899145                                          0                         0   \n",
       "899146                                          0                         0   \n",
       "899157                                          0                         0   \n",
       "899160                                          0                         0   \n",
       "899161                                          0                         0   \n",
       "\n",
       "        NAICS_Industry_Wholesale_trade  \n",
       "899145                               0  \n",
       "899146                               0  \n",
       "899157                               0  \n",
       "899160                               0  \n",
       "899161                               0  \n",
       "\n",
       "[5 rows x 140 columns]"
      ]
     },
     "execution_count": 37,
     "metadata": {},
     "output_type": "execute_result"
    }
   ],
   "source": [
    "df.tail()"
   ]
  },
  {
   "cell_type": "code",
   "execution_count": 38,
   "id": "edad23f8",
   "metadata": {},
   "outputs": [
    {
     "data": {
      "text/plain": [
       "1    360798\n",
       "0     98561\n",
       "Name: MIS_Status, dtype: int64"
      ]
     },
     "execution_count": 38,
     "metadata": {},
     "output_type": "execute_result"
    }
   ],
   "source": [
    "df['MIS_Status'].value_counts()"
   ]
  },
  {
   "attachments": {},
   "cell_type": "markdown",
   "id": "e995734c",
   "metadata": {},
   "source": [
    "## Testing"
   ]
  },
  {
   "cell_type": "code",
   "execution_count": 39,
   "id": "89136a8c",
   "metadata": {
    "scrolled": true
   },
   "outputs": [
    {
     "data": {
      "text/html": [
       "<div>\n",
       "<style scoped>\n",
       "    .dataframe tbody tr th:only-of-type {\n",
       "        vertical-align: middle;\n",
       "    }\n",
       "\n",
       "    .dataframe tbody tr th {\n",
       "        vertical-align: top;\n",
       "    }\n",
       "\n",
       "    .dataframe thead th {\n",
       "        text-align: right;\n",
       "    }\n",
       "</style>\n",
       "<table border=\"1\" class=\"dataframe\">\n",
       "  <thead>\n",
       "    <tr style=\"text-align: right;\">\n",
       "      <th></th>\n",
       "      <th>ApprovalFY</th>\n",
       "      <th>Term</th>\n",
       "      <th>NoEmp</th>\n",
       "      <th>NewExist</th>\n",
       "      <th>CreateJob</th>\n",
       "      <th>RetainedJob</th>\n",
       "      <th>UrbanRural</th>\n",
       "      <th>RevLineCr</th>\n",
       "      <th>LowDoc</th>\n",
       "      <th>DisbursementGross</th>\n",
       "      <th>...</th>\n",
       "      <th>NAICS_Industry_Manufacturing</th>\n",
       "      <th>NAICS_Industry_Mining_quarrying_oil_gas</th>\n",
       "      <th>NAICS_Industry_Other</th>\n",
       "      <th>NAICS_Industry_Professional_scientific_technicalservices</th>\n",
       "      <th>NAICS_Industry_Public_administration</th>\n",
       "      <th>NAICS_Industry_Realestate_rental_leasing</th>\n",
       "      <th>NAICS_Industry_Retail_trade</th>\n",
       "      <th>NAICS_Industry_Transportation_warehousing</th>\n",
       "      <th>NAICS_Industry_Utilities</th>\n",
       "      <th>NAICS_Industry_Wholesale_trade</th>\n",
       "    </tr>\n",
       "  </thead>\n",
       "  <tbody>\n",
       "    <tr>\n",
       "      <th>899145</th>\n",
       "      <td>1997</td>\n",
       "      <td>60</td>\n",
       "      <td>5</td>\n",
       "      <td>1.0</td>\n",
       "      <td>0</td>\n",
       "      <td>0</td>\n",
       "      <td>0</td>\n",
       "      <td>1</td>\n",
       "      <td>0</td>\n",
       "      <td>25000.0</td>\n",
       "      <td>...</td>\n",
       "      <td>0</td>\n",
       "      <td>0</td>\n",
       "      <td>0</td>\n",
       "      <td>0</td>\n",
       "      <td>0</td>\n",
       "      <td>0</td>\n",
       "      <td>0</td>\n",
       "      <td>0</td>\n",
       "      <td>0</td>\n",
       "      <td>0</td>\n",
       "    </tr>\n",
       "    <tr>\n",
       "      <th>899146</th>\n",
       "      <td>1997</td>\n",
       "      <td>240</td>\n",
       "      <td>8</td>\n",
       "      <td>1.0</td>\n",
       "      <td>4</td>\n",
       "      <td>0</td>\n",
       "      <td>0</td>\n",
       "      <td>0</td>\n",
       "      <td>0</td>\n",
       "      <td>189000.0</td>\n",
       "      <td>...</td>\n",
       "      <td>1</td>\n",
       "      <td>0</td>\n",
       "      <td>0</td>\n",
       "      <td>0</td>\n",
       "      <td>0</td>\n",
       "      <td>0</td>\n",
       "      <td>0</td>\n",
       "      <td>0</td>\n",
       "      <td>0</td>\n",
       "      <td>0</td>\n",
       "    </tr>\n",
       "    <tr>\n",
       "      <th>899157</th>\n",
       "      <td>1997</td>\n",
       "      <td>36</td>\n",
       "      <td>40</td>\n",
       "      <td>1.0</td>\n",
       "      <td>0</td>\n",
       "      <td>0</td>\n",
       "      <td>0</td>\n",
       "      <td>0</td>\n",
       "      <td>0</td>\n",
       "      <td>200000.0</td>\n",
       "      <td>...</td>\n",
       "      <td>1</td>\n",
       "      <td>0</td>\n",
       "      <td>0</td>\n",
       "      <td>0</td>\n",
       "      <td>0</td>\n",
       "      <td>0</td>\n",
       "      <td>0</td>\n",
       "      <td>0</td>\n",
       "      <td>0</td>\n",
       "      <td>0</td>\n",
       "    </tr>\n",
       "    <tr>\n",
       "      <th>899160</th>\n",
       "      <td>1997</td>\n",
       "      <td>60</td>\n",
       "      <td>6</td>\n",
       "      <td>1.0</td>\n",
       "      <td>0</td>\n",
       "      <td>0</td>\n",
       "      <td>0</td>\n",
       "      <td>1</td>\n",
       "      <td>0</td>\n",
       "      <td>85000.0</td>\n",
       "      <td>...</td>\n",
       "      <td>0</td>\n",
       "      <td>0</td>\n",
       "      <td>0</td>\n",
       "      <td>0</td>\n",
       "      <td>0</td>\n",
       "      <td>0</td>\n",
       "      <td>1</td>\n",
       "      <td>0</td>\n",
       "      <td>0</td>\n",
       "      <td>0</td>\n",
       "    </tr>\n",
       "    <tr>\n",
       "      <th>899161</th>\n",
       "      <td>1997</td>\n",
       "      <td>108</td>\n",
       "      <td>26</td>\n",
       "      <td>1.0</td>\n",
       "      <td>0</td>\n",
       "      <td>0</td>\n",
       "      <td>0</td>\n",
       "      <td>0</td>\n",
       "      <td>0</td>\n",
       "      <td>300000.0</td>\n",
       "      <td>...</td>\n",
       "      <td>1</td>\n",
       "      <td>0</td>\n",
       "      <td>0</td>\n",
       "      <td>0</td>\n",
       "      <td>0</td>\n",
       "      <td>0</td>\n",
       "      <td>0</td>\n",
       "      <td>0</td>\n",
       "      <td>0</td>\n",
       "      <td>0</td>\n",
       "    </tr>\n",
       "  </tbody>\n",
       "</table>\n",
       "<p>5 rows × 139 columns</p>\n",
       "</div>"
      ],
      "text/plain": [
       "        ApprovalFY  Term  NoEmp  NewExist  CreateJob  RetainedJob  UrbanRural  \\\n",
       "899145        1997    60      5       1.0          0            0           0   \n",
       "899146        1997   240      8       1.0          4            0           0   \n",
       "899157        1997    36     40       1.0          0            0           0   \n",
       "899160        1997    60      6       1.0          0            0           0   \n",
       "899161        1997   108     26       1.0          0            0           0   \n",
       "\n",
       "        RevLineCr  LowDoc  DisbursementGross  ...  \\\n",
       "899145          1       0            25000.0  ...   \n",
       "899146          0       0           189000.0  ...   \n",
       "899157          0       0           200000.0  ...   \n",
       "899160          1       0            85000.0  ...   \n",
       "899161          0       0           300000.0  ...   \n",
       "\n",
       "        NAICS_Industry_Manufacturing  NAICS_Industry_Mining_quarrying_oil_gas  \\\n",
       "899145                             0                                        0   \n",
       "899146                             1                                        0   \n",
       "899157                             1                                        0   \n",
       "899160                             0                                        0   \n",
       "899161                             1                                        0   \n",
       "\n",
       "        NAICS_Industry_Other  \\\n",
       "899145                     0   \n",
       "899146                     0   \n",
       "899157                     0   \n",
       "899160                     0   \n",
       "899161                     0   \n",
       "\n",
       "        NAICS_Industry_Professional_scientific_technicalservices  \\\n",
       "899145                                                  0          \n",
       "899146                                                  0          \n",
       "899157                                                  0          \n",
       "899160                                                  0          \n",
       "899161                                                  0          \n",
       "\n",
       "        NAICS_Industry_Public_administration  \\\n",
       "899145                                     0   \n",
       "899146                                     0   \n",
       "899157                                     0   \n",
       "899160                                     0   \n",
       "899161                                     0   \n",
       "\n",
       "        NAICS_Industry_Realestate_rental_leasing  NAICS_Industry_Retail_trade  \\\n",
       "899145                                         0                            0   \n",
       "899146                                         0                            0   \n",
       "899157                                         0                            0   \n",
       "899160                                         0                            1   \n",
       "899161                                         0                            0   \n",
       "\n",
       "        NAICS_Industry_Transportation_warehousing  NAICS_Industry_Utilities  \\\n",
       "899145                                          0                         0   \n",
       "899146                                          0                         0   \n",
       "899157                                          0                         0   \n",
       "899160                                          0                         0   \n",
       "899161                                          0                         0   \n",
       "\n",
       "        NAICS_Industry_Wholesale_trade  \n",
       "899145                               0  \n",
       "899146                               0  \n",
       "899157                               0  \n",
       "899160                               0  \n",
       "899161                               0  \n",
       "\n",
       "[5 rows x 139 columns]"
      ]
     },
     "execution_count": 39,
     "metadata": {},
     "output_type": "execute_result"
    }
   ],
   "source": [
    "X= df.iloc[:, df.columns != 'MIS_Status']\n",
    "y = df.iloc[:, df.columns.get_loc('MIS_Status')]\n",
    "X.tail()"
   ]
  },
  {
   "attachments": {},
   "cell_type": "markdown",
   "id": "41297a53",
   "metadata": {},
   "source": [
    "### Checking for Co-Linearity"
   ]
  },
  {
   "cell_type": "code",
   "execution_count": 40,
   "id": "9d84db51",
   "metadata": {},
   "outputs": [
    {
     "data": {
      "image/png": "[encoded data removed]",
      "text/plain": [
       "<Figure size 432x288 with 2 Axes>"
      ]
     },
     "metadata": {
      "needs_background": "light"
     },
     "output_type": "display_data"
    }
   ],
   "source": [
    "cols = ['SameState', 'LowDoc', 'NewExist', 'RevLineCr', 'ApprovalFY', \n",
    "              'Term', 'Franchise', 'UrbanRural', 'MIS_Status']\n",
    "\n",
    "#scatterplotmatrix(df[cols].values, figsize=(10, 8), \n",
    " #                 names=cols, alpha=0.5)\n",
    "# plt.tight_layout()\n",
    "plt.show()\n",
    "cm = np.corrcoef(df[cols].values.T)\n",
    "hm = heatmap(cm, row_names=cols, column_names=cols)\n",
    "\n",
    "plt.show()"
   ]
  },
  {
   "cell_type": "code",
   "execution_count": 41,
   "id": "de3af6c9",
   "metadata": {},
   "outputs": [],
   "source": [
    "from sklearn.preprocessing import StandardScaler\n",
    "\n",
    "sc = StandardScaler()\n",
    "X_std = sc.fit_transform(X)"
   ]
  },
  {
   "cell_type": "code",
   "execution_count": 42,
   "id": "d4c9b0b9",
   "metadata": {},
   "outputs": [],
   "source": [
    "from sklearn.model_selection import train_test_split\n",
    "\n",
    "# splitting encoded data 80-20\n",
    "\n",
    "X_train, X_test, y_train, y_test = train_test_split(\n",
    "    X_std, y, test_size=0.2, random_state=1)"
   ]
  },
  {
   "attachments": {},
   "cell_type": "markdown",
   "id": "0440dd28",
   "metadata": {},
   "source": [
    "## Testing"
   ]
  },
  {
   "cell_type": "code",
   "execution_count": 43,
   "id": "f0586dc9",
   "metadata": {
    "scrolled": true
   },
   "outputs": [
    {
     "name": "stdout",
     "output_type": "stream",
     "text": [
      "Training Accuracy: 0.7890836954776631\n",
      "Testing Accuracy: 0.790414925113201\n",
      "                     0\n",
      "Term          2.400121\n",
      "BankState_GU  0.793031\n",
      "GrAppv        0.481311\n",
      "BankState_AN  0.475601\n",
      "SameState     0.472739\n",
      "...                ...\n",
      "State_KY      0.000000\n",
      "State_NY      0.000000\n",
      "BankState_SD  0.000000\n",
      "BankState_IA  0.000000\n",
      "State_VA      0.000000\n",
      "\n",
      "[139 rows x 1 columns]\n"
     ]
    }
   ],
   "source": [
    "lr_sgd = SGDClassifier(\n",
    "    loss = 'log',\n",
    "    penalty = 'elasticnet',\n",
    "    n_jobs = -1,\n",
    "    random_state = 42,\n",
    "    class_weight = 'balanced'\n",
    ")\n",
    "\n",
    "lr_sgd.fit(X_train, y_train)\n",
    "print('Training Accuracy:',lr_sgd.score(X_train, y_train))\n",
    "print('Testing Accuracy:',lr_sgd.score(X_test, y_test))\n",
    "\n",
    "coef_SGD = pd.DataFrame(abs(lr_sgd.coef_), \n",
    "            columns=X.columns).transpose() \\\n",
    "            .sort_values(axis='index', by=0, ascending=False)\n",
    "print(coef_SGD[0:])"
   ]
  },
  {
   "cell_type": "code",
   "execution_count": 44,
   "id": "7b653c22",
   "metadata": {},
   "outputs": [
    {
     "name": "stdout",
     "output_type": "stream",
     "text": [
      "Training Accuracy: 0.8606780648022924\n",
      "Testing Accuracy: 0.8618295019157088\n",
      "                                    0\n",
      "Term                         2.408664\n",
      "BankState_AN                 0.659841\n",
      "BankState_GU                 0.467442\n",
      "NoEmp                        0.462233\n",
      "SameState                    0.420033\n",
      "...                               ...\n",
      "State_KY                     0.003986\n",
      "NAICS_Industry_Construction  0.003833\n",
      "State_MN                     0.003352\n",
      "State_TN                     0.003332\n",
      "BankState_CO                 0.002292\n",
      "\n",
      "[139 rows x 1 columns]\n"
     ]
    }
   ],
   "source": [
    "lr_sgd = SGDClassifier(\n",
    "    penalty = 'l2',\n",
    "    n_jobs = -1,\n",
    "    random_state = 42\n",
    ")\n",
    "\n",
    "lr_sgd.fit(X_train, y_train)\n",
    "print('Training Accuracy:',lr_sgd.score(X_train, y_train))\n",
    "print('Testing Accuracy:',lr_sgd.score(X_test, y_test))\n",
    "\n",
    "coef_SGD = pd.DataFrame(abs(lr_sgd.coef_), \n",
    "            columns=X.columns).transpose() \\\n",
    "            .sort_values(axis='index', by=0, ascending=False)\n",
    "print(coef_SGD[0:])"
   ]
  },
  {
   "cell_type": "code",
   "execution_count": 45,
   "id": "c357c5ac",
   "metadata": {},
   "outputs": [
    {
     "name": "stdout",
     "output_type": "stream",
     "text": [
      "Training Accuracy: 0.8166873930234266\n",
      "Testing Accuracy: 0.8187695924764891\n",
      "                      0\n",
      "BankState_GU  57.565341\n",
      "BankState_AN   4.745228\n",
      "Term           2.514925\n",
      "ApprovalFY     0.479173\n",
      "SameState      0.408081\n",
      "...                 ...\n",
      "State_NJ       0.000000\n",
      "State_NE       0.000000\n",
      "BankState_PR   0.000000\n",
      "BankState_CT   0.000000\n",
      "BankState_SD   0.000000\n",
      "\n",
      "[139 rows x 1 columns]\n"
     ]
    }
   ],
   "source": [
    "lr_sgd = SGDClassifier(\n",
    "    penalty = 'l1',\n",
    "    n_jobs = -1,\n",
    "    random_state = 42,\n",
    "    class_weight = 'balanced'\n",
    ")\n",
    "\n",
    "lr_sgd.fit(X_train, y_train)\n",
    "print('Training Accuracy:',lr_sgd.score(X_train, y_train))\n",
    "print('Testing Accuracy:',lr_sgd.score(X_test, y_test))\n",
    "\n",
    "coef_SGD = pd.DataFrame(abs(lr_sgd.coef_), \n",
    "            columns=X.columns).transpose() \\\n",
    "            .sort_values(axis='index', by=0, ascending=False)\n",
    "print(coef_SGD[0:])"
   ]
  },
  {
   "cell_type": "code",
   "execution_count": 46,
   "id": "67bf4563",
   "metadata": {},
   "outputs": [
    {
     "name": "stdout",
     "output_type": "stream",
     "text": [
      "Training Accuracy: 0.8537934675240213\n",
      "Testing Accuracy: 0.855451062347614\n",
      "Converge Iterations: 48\n"
     ]
    }
   ],
   "source": [
    "lr = LogisticRegression(n_jobs=-1, random_state=0 )\n",
    "lr.fit(X_train, y_train)\n",
    "\n",
    "print('Training Accuracy:',lr.score(X_train, y_train))\n",
    "print('Testing Accuracy:',lr.score(X_test, y_test))\n",
    "print('Converge Iterations:',lr.n_iter_[0])"
   ]
  },
  {
   "cell_type": "code",
   "execution_count": 47,
   "id": "99bf8db0",
   "metadata": {},
   "outputs": [
    {
     "name": "stdout",
     "output_type": "stream",
     "text": [
      "                                   0\n",
      "Term                        2.702279\n",
      "SameState                   0.526829\n",
      "ApprovalFY                  0.485728\n",
      "RevLineCr                   0.296330\n",
      "NoEmp                       0.285027\n",
      "...                              ...\n",
      "State_DE                    0.001842\n",
      "Franchise                   0.001397\n",
      "State_KY                    0.001272\n",
      "BankState_SD                0.000765\n",
      "NAICS_Industry_Information  0.000494\n",
      "\n",
      "[139 rows x 1 columns]\n"
     ]
    }
   ],
   "source": [
    "coef_logreg2 = pd.DataFrame(abs(lr.coef_), \n",
    "            columns=X.columns).transpose() \\\n",
    "            .sort_values(axis='index', by=0, ascending=False)\n",
    "print(coef_logreg2[0:])"
   ]
  },
  {
   "cell_type": "code",
   "execution_count": 48,
   "id": "08eb25ba",
   "metadata": {},
   "outputs": [
    {
     "data": {
      "image/png": "[encoded data removed]",
      "text/plain": [
       "<Figure size 432x288 with 1 Axes>"
      ]
     },
     "metadata": {
      "needs_background": "light"
     },
     "output_type": "display_data"
    }
   ],
   "source": [
    "plot_logreg2 = coef_logreg2[0:10].xs([0], axis=1)\n",
    "p1 = plot_logreg2.plot(kind='bar', title='Logistic Regression L2')"
   ]
  },
  {
   "cell_type": "code",
   "execution_count": 49,
   "id": "772d0cf9",
   "metadata": {},
   "outputs": [
    {
     "name": "stdout",
     "output_type": "stream",
     "text": [
      "Training Accuracy: 0.8537907463393263\n",
      "Testing Accuracy: 0.8554401776384535\n",
      "Converge Iterations: 48\n"
     ]
    }
   ],
   "source": [
    "lr1 = LogisticRegression(penalty = 'none',C = 10.0, n_jobs=-1, random_state=0)\n",
    "lr1.fit(X_train, y_train)\n",
    "\n",
    "\n",
    "print('Training Accuracy:',lr1.score(X_train, y_train))\n",
    "print('Testing Accuracy:',lr1.score(X_test, y_test))\n",
    "print('Converge Iterations:',lr1.n_iter_[0])"
   ]
  },
  {
   "cell_type": "code",
   "execution_count": 50,
   "id": "a223a6f1",
   "metadata": {
    "scrolled": true
   },
   "outputs": [
    {
     "name": "stdout",
     "output_type": "stream",
     "text": [
      "                                   0\n",
      "Term                        2.702752\n",
      "SameState                   0.526897\n",
      "ApprovalFY                  0.485770\n",
      "RevLineCr                   0.296367\n",
      "NoEmp                       0.285351\n",
      "...                              ...\n",
      "State_DE                    0.001845\n",
      "Franchise                   0.001402\n",
      "State_KY                    0.001271\n",
      "BankState_SD                0.000768\n",
      "NAICS_Industry_Information  0.000495\n",
      "\n",
      "[139 rows x 1 columns]\n"
     ]
    }
   ],
   "source": [
    "coef_logreg1 = pd.DataFrame(abs(lr1.coef_), \n",
    "            columns=X.columns).transpose() \\\n",
    "            .sort_values(axis='index', by=0, ascending=False)\n",
    "print(coef_logreg1[0:])"
   ]
  },
  {
   "cell_type": "code",
   "execution_count": 51,
   "id": "58416916",
   "metadata": {
    "scrolled": true
   },
   "outputs": [
    {
     "data": {
      "image/png": "[encoded data removed]",
      "text/plain": [
       "<Figure size 432x288 with 1 Axes>"
      ]
     },
     "metadata": {
      "needs_background": "light"
     },
     "output_type": "display_data"
    }
   ],
   "source": [
    "plot_logreg1 = coef_logreg1[0:10].xs([0], axis=1)\n",
    "p1 = plot_logreg1.plot(kind='bar', title='Logistic Regression No Penalty')"
   ]
  },
  {
   "cell_type": "code",
   "execution_count": 52,
   "id": "d7325212",
   "metadata": {},
   "outputs": [
    {
     "name": "stdout",
     "output_type": "stream",
     "text": [
      "Training Accuracy: 0.8537907463393263\n",
      "Testing Accuracy: 0.8554837164750958\n",
      "Converge Iterations: 7\n"
     ]
    }
   ],
   "source": [
    "lr2 = LogisticRegression(penalty = 'l2', solver ='liblinear',C = 1.0, n_jobs=-1, random_state=0)\n",
    "lr2.fit(X_train, y_train)\n",
    "\n",
    "\n",
    "print('Training Accuracy:',lr2.score(X_train, y_train))\n",
    "print('Testing Accuracy:',lr2.score(X_test, y_test))\n",
    "print('Converge Iterations:',lr2.n_iter_[0])"
   ]
  },
  {
   "cell_type": "code",
   "execution_count": 53,
   "id": "d73b10be",
   "metadata": {},
   "outputs": [
    {
     "name": "stdout",
     "output_type": "stream",
     "text": [
      "                                   0\n",
      "Term                        2.701991\n",
      "SameState                   0.526796\n",
      "ApprovalFY                  0.485735\n",
      "RevLineCr                   0.296344\n",
      "NoEmp                       0.284062\n",
      "...                              ...\n",
      "State_DE                    0.001840\n",
      "Franchise                   0.001400\n",
      "State_KY                    0.001269\n",
      "BankState_SD                0.000770\n",
      "NAICS_Industry_Information  0.000495\n",
      "\n",
      "[139 rows x 1 columns]\n"
     ]
    }
   ],
   "source": [
    "coef_logreg2 = pd.DataFrame(abs(lr2.coef_), \n",
    "            columns=X.columns).transpose() \\\n",
    "            .sort_values(axis='index', by=0, ascending=False)\n",
    "print(coef_logreg2[0:])"
   ]
  },
  {
   "cell_type": "code",
   "execution_count": 54,
   "id": "ac091bb5",
   "metadata": {},
   "outputs": [
    {
     "data": {
      "image/png": "[encoded data removed]",
      "text/plain": [
       "<Figure size 432x288 with 1 Axes>"
      ]
     },
     "metadata": {
      "needs_background": "light"
     },
     "output_type": "display_data"
    }
   ],
   "source": [
    "plot_logreg2 = coef_logreg2[0:10].xs([0], axis=1)\n",
    "p2 = plot_logreg2.plot(kind='bar', title='Logistic Regression L2')"
   ]
  },
  {
   "cell_type": "code",
   "execution_count": 55,
   "id": "5ff5c37f",
   "metadata": {},
   "outputs": [],
   "source": [
    "feature_names = df.columns[df.columns != 'MIS_Status']\n",
    "class_names = ['0','1']"
   ]
  },
  {
   "attachments": {},
   "cell_type": "markdown",
   "id": "41f982cd",
   "metadata": {},
   "source": [
    "# Decision Trees"
   ]
  },
  {
   "cell_type": "code",
   "execution_count": 56,
   "id": "d0af0933",
   "metadata": {},
   "outputs": [
    {
     "name": "stdout",
     "output_type": "stream",
     "text": [
      "Testing Accuracy for Decision Tree with criteria as Gini Index is:  88.42084639498434\n",
      "Training Accuracy for Decision Tree with criteria as Gini Index is:  88.31740986755993\n"
     ]
    }
   ],
   "source": [
    "# Decision Tree classifier with criteria - Gini Index\n",
    "tree_gini_1 = DecisionTreeClassifier(criterion = \"gini\", random_state = 50,\n",
    "                               max_depth=3, min_samples_leaf=5)\n",
    "tree_gini_1.fit(X_train, y_train)\n",
    "\n",
    "y_pred_gini_1 = tree_gini_1.predict(X_test)\n",
    "y_pred_gini_1_train = tree_gini_1.predict(X_train)\n",
    "\n",
    "# Accuracy for Decision Tree classifier with criterion as gini index\n",
    "print(\"Testing Accuracy for Decision Tree with criteria as Gini Index is: \", accuracy_score(y_test,y_pred_gini_1)*100)\n",
    "print(\"Training Accuracy for Decision Tree with criteria as Gini Index is: \", accuracy_score(y_train,y_pred_gini_1_train)*100)"
   ]
  },
  {
   "cell_type": "code",
   "execution_count": 57,
   "id": "81b94fa6",
   "metadata": {},
   "outputs": [
    {
     "data": {
      "text/plain": [
       "'gini.pdf'"
      ]
     },
     "execution_count": 57,
     "metadata": {},
     "output_type": "execute_result"
    }
   ],
   "source": [
    "graph_data = tree.export_graphviz(tree_gini_1, out_file=None, filled=True, rounded=True,\n",
    "                                feature_names=feature_names,  \n",
    "                                class_names=class_names)\n",
    "graph = graphviz.Source(graph_data) \n",
    "\n",
    "# graph\n",
    "my_tree = graphviz.Source(graph_data, directory ='') \n",
    "my_tree.save(filename='gini.pdf', directory='')\n",
    "my_tree.render(filename='gini',directory='',view = True, format='pdf')"
   ]
  },
  {
   "cell_type": "code",
   "execution_count": 58,
   "id": "c3eabc12",
   "metadata": {},
   "outputs": [
    {
     "name": "stdout",
     "output_type": "stream",
     "text": [
      "Testing Accuracy for Decision Tree with criteria as Gini Index is:  94.34539359108325\n",
      "Training Accuracy for Decision Tree with criteria as Gini Index is:  94.54266409424007\n"
     ]
    }
   ],
   "source": [
    "# Decision Tree classifier with criteria - Gini Index\n",
    "tree_gini_2 = DecisionTreeClassifier(criterion = \"gini\", random_state = 50,\n",
    "                               max_depth=10, min_samples_leaf=5)\n",
    "tree_gini_2.fit(X_train, y_train)\n",
    "\n",
    "y_pred_gini_2 = tree_gini_2.predict(X_test)\n",
    "y_pred_gini_2_train = tree_gini_2.predict(X_train)\n",
    "\n",
    "# Accuracy for Decision Tree classifier with criterion as gini index\n",
    "print(\"Testing Accuracy for Decision Tree with criteria as Gini Index is: \", accuracy_score(y_test,y_pred_gini_2)*100)\n",
    "print(\"Training Accuracy for Decision Tree with criteria as Gini Index is: \", accuracy_score(y_train,y_pred_gini_2_train)*100)"
   ]
  },
  {
   "attachments": {},
   "cell_type": "markdown",
   "id": "45d18b14",
   "metadata": {},
   "source": [
    "# Adaboost Gini Depth 3"
   ]
  },
  {
   "cell_type": "code",
   "execution_count": 59,
   "id": "1fe499c5",
   "metadata": {},
   "outputs": [
    {
     "name": "stdout",
     "output_type": "stream",
     "text": [
      "Testing Accuracy for Decision Tree with Adaboost is:  94.57941483803552\n",
      "Training Accuracy for Decision Tree with Adaboost is:  94.63899403244196\n"
     ]
    }
   ],
   "source": [
    "from sklearn.ensemble import AdaBoostClassifier\n",
    "\n",
    "abc = AdaBoostClassifier(base_estimator=tree_gini_1)\n",
    "# Train Adaboost Classifer\n",
    "model = abc.fit(X_train, y_train)\n",
    "#Predict the response with test dataset\n",
    "y_pred = model.predict(X_test)\n",
    "y_pred_adaboost_train = model.predict(X_train)\n",
    "\n",
    "print(\"Testing Accuracy for Decision Tree with Adaboost is: \", accuracy_score(y_test,y_pred)*100)\n",
    "print(\"Training Accuracy for Decision Tree with Adaboost is: \", accuracy_score(y_train,y_pred_adaboost_train)*100)"
   ]
  },
  {
   "cell_type": "code",
   "execution_count": 60,
   "id": "2be7e8f4",
   "metadata": {},
   "outputs": [
    {
     "name": "stdout",
     "output_type": "stream",
     "text": [
      "Accuracy for Decision Tree with criteria as Entropy is:  86.50840299547195\n",
      "Training Accuracy for Decision Tree with criteria as Entropy is:  86.34672791146355\n"
     ]
    }
   ],
   "source": [
    "# Decision Tree classifier with criteria - Entropy\n",
    "tree_entropy_1 = DecisionTreeClassifier(criterion = \"entropy\", random_state = 50,\n",
    "                                      max_depth=3, min_samples_leaf=5)\n",
    "tree_entropy_1.fit(X_train, y_train)\n",
    "y_pred_entropy_1 = tree_entropy_1.predict(X_test)\n",
    "y_pred_entropy_1_train = tree_entropy_1.predict(X_train)\n",
    "\n",
    "print(\"Accuracy for Decision Tree with criteria as Entropy is: \", accuracy_score(y_test,y_pred_entropy_1)*100)\n",
    "print(\"Training Accuracy for Decision Tree with criteria as Entropy is: \", accuracy_score(y_train,y_pred_entropy_1_train)*100)"
   ]
  },
  {
   "cell_type": "code",
   "execution_count": 61,
   "id": "f8df355c",
   "metadata": {},
   "outputs": [],
   "source": [
    "graph_data = tree.export_graphviz(tree_entropy_1, out_file=None, filled=True, rounded=True,\n",
    "                                feature_names=feature_names,  \n",
    "                                class_names=class_names)\n",
    "graph = graphviz.Source(graph_data) \n",
    "\n",
    "# graph\n",
    "#my_tree = graphviz.Source(graph_data, directory ='') \n",
    "#my_tree.save(filename='gini.pdf', directory='')\n",
    "#my_tree.render(filename='gini',directory='',view = True, format='pdf')"
   ]
  },
  {
   "attachments": {},
   "cell_type": "markdown",
   "id": "133108e9",
   "metadata": {},
   "source": [
    "# Multi-Layer Perceptron"
   ]
  },
  {
   "cell_type": "code",
   "execution_count": 62,
   "id": "b795a00e",
   "metadata": {},
   "outputs": [
    {
     "name": "stdout",
     "output_type": "stream",
     "text": [
      "Training Accuracy: 0.8991420104656763\n",
      "Testing Accuracy: 0.9001981017067224\n"
     ]
    }
   ],
   "source": [
    "mlp1 = MLPClassifier(solver='lbfgs', alpha=1e-5,\n",
    "                    hidden_layer_sizes=(5, 2), random_state=1)\n",
    "\n",
    "mlp1.fit(X_train, y_train)\n",
    "\n",
    "mlp1.predict(X_test)\n",
    "\n",
    "\n",
    "print('Training Accuracy:',mlp1.score(X_train, y_train))\n",
    "print('Testing Accuracy:',mlp1.score(X_test, y_test))\n",
    "# cannot get feature weights"
   ]
  },
  {
   "cell_type": "code",
   "execution_count": 63,
   "id": "dd38e590",
   "metadata": {},
   "outputs": [
    {
     "name": "stdout",
     "output_type": "stream",
     "text": [
      "Training Accuracy: 0.9109682791500108\n",
      "Testing Accuracy: 0.9109413096482062\n"
     ]
    }
   ],
   "source": [
    "mlp2 = MLPClassifier(solver='lbfgs', alpha=1e-5,\n",
    "                    hidden_layer_sizes=(10, 2), random_state=1)\n",
    "\n",
    "mlp2.fit(X_train, y_train)\n",
    "\n",
    "mlp2.predict(X_test)\n",
    "\n",
    "print('Training Accuracy:',mlp2.score(X_train, y_train))\n",
    "print('Testing Accuracy:',mlp2.score(X_test, y_test))"
   ]
  },
  {
   "cell_type": "code",
   "execution_count": 64,
   "id": "eaa73522",
   "metadata": {
    "scrolled": true
   },
   "outputs": [
    {
     "name": "stdout",
     "output_type": "stream",
     "text": [
      "Training Accuracy: 0.9155262635140835\n",
      "Testing Accuracy: 0.9141631835597352\n"
     ]
    }
   ],
   "source": [
    "mlp_sgd1 = MLPClassifier(solver='sgd', alpha=1e-5,\n",
    "                    hidden_layer_sizes=(10, 2), random_state=1)\n",
    "\n",
    "mlp_sgd1.fit(X_train, y_train)\n",
    "\n",
    "mlp_sgd1.predict(X_test)\n",
    "\n",
    "print('Training Accuracy:',mlp_sgd1.score(X_train, y_train))\n",
    "print('Testing Accuracy:',mlp_sgd1.score(X_test, y_test))"
   ]
  },
  {
   "cell_type": "code",
   "execution_count": 65,
   "id": "8ffb1477",
   "metadata": {},
   "outputs": [
    {
     "name": "stdout",
     "output_type": "stream",
     "text": [
      "Training Accuracy: 0.9164106485399484\n",
      "Testing Accuracy: 0.9150774991292233\n"
     ]
    }
   ],
   "source": [
    "mlp_sgd2 = MLPClassifier(solver='sgd', alpha=1e-5, learning_rate = 'adaptive',\n",
    "                    hidden_layer_sizes=(10, 2), random_state=1)\n",
    "\n",
    "mlp_sgd2.fit(X_train, y_train)\n",
    "\n",
    "mlp_sgd2.predict(X_test)\n",
    "\n",
    "print('Training Accuracy:',mlp_sgd2.score(X_train, y_train))\n",
    "print('Testing Accuracy:',mlp_sgd2.score(X_test, y_test))"
   ]
  },
  {
   "cell_type": "code",
   "execution_count": 66,
   "id": "aa426c43",
   "metadata": {},
   "outputs": [
    {
     "name": "stdout",
     "output_type": "stream",
     "text": [
      "Training Accuracy: 0.9079450429539004\n",
      "Testing Accuracy: 0.9083834029954719\n"
     ]
    }
   ],
   "source": [
    "mlp_sgd2 = MLPClassifier(solver='sgd', alpha=1e-5, learning_rate = 'adaptive',\n",
    "                    hidden_layer_sizes=(5, 2), random_state=1)\n",
    "\n",
    "mlp_sgd2.fit(X_train, y_train)\n",
    "\n",
    "mlp_sgd2.predict(X_test)\n",
    "\n",
    "print('Training Accuracy:',mlp_sgd2.score(X_train, y_train))\n",
    "print('Testing Accuracy:',mlp_sgd2.score(X_test, y_test))"
   ]
  },
  {
   "attachments": {},
   "cell_type": "markdown",
   "id": "d64b6df7",
   "metadata": {},
   "source": [
    "# Gradient Boosting Classifier"
   ]
  },
  {
   "cell_type": "code",
   "execution_count": 67,
   "id": "946007ff",
   "metadata": {},
   "outputs": [
    {
     "name": "stdout",
     "output_type": "stream",
     "text": [
      "Training Accuracy: 0.9295648553554275\n",
      "Testing Accuracy: 0.9310889063044235\n"
     ]
    }
   ],
   "source": [
    "gbc1 = GradientBoostingClassifier(n_estimators=100, learning_rate=1.0,\n",
    "    max_depth=1, random_state=0).fit(X_train, y_train)\n",
    "print('Training Accuracy:',gbc1.score(X_train, y_train))\n",
    "print('Testing Accuracy:',gbc1.score(X_test, y_test))"
   ]
  },
  {
   "cell_type": "code",
   "execution_count": 68,
   "id": "8170284c",
   "metadata": {},
   "outputs": [
    {
     "name": "stdout",
     "output_type": "stream",
     "text": [
      "Term: 0.8329578306829726\n",
      "ApprovalFY: 0.11543529614889163\n",
      "SameState: 0.017405547454649613\n",
      "BankState_CA: 0.01148487613980299\n",
      "BankState_NC: 0.004136310553502428\n",
      "BankState_VA: 0.0037892775439823025\n",
      "BankState_DE: 0.002050665446828861\n",
      "NoEmp: 0.0019092576876672885\n",
      "RevLineCr: 0.0017912135735621217\n",
      "NAICS_Industry_Accommodation_foodservices: 0.001759236300167848\n"
     ]
    }
   ],
   "source": [
    "gbc1_weights = zip(X.columns, gbc1.feature_importances_)\n",
    "gbc1_weights = list(gbc1_weights)\n",
    "res = sorted(gbc1_weights, key = lambda x: x[1], reverse = True)\n",
    "for i in res[0:10]:\n",
    "    print(i[0] + ': ' + str(i[1]))"
   ]
  },
  {
   "cell_type": "code",
   "execution_count": 69,
   "id": "d8823db9",
   "metadata": {},
   "outputs": [
    {
     "name": "stdout",
     "output_type": "stream",
     "text": [
      "Training Accuracy: 0.9524336915319453\n",
      "Testing Accuracy: 0.9511167711598746\n"
     ]
    }
   ],
   "source": [
    "gbc3 = GradientBoostingClassifier(n_estimators=100, learning_rate=1.0,\n",
    "    max_depth=3, random_state=0).fit(X_train, y_train)\n",
    "gbc3.score(X_test, y_test)\n",
    "print('Training Accuracy:',gbc3.score(X_train, y_train))\n",
    "print('Testing Accuracy:',gbc3.score(X_test, y_test))\n",
    "# significantly longer runtime"
   ]
  },
  {
   "cell_type": "code",
   "execution_count": 70,
   "id": "6b820a8b",
   "metadata": {},
   "outputs": [
    {
     "data": {
      "image/png": "[encoded data removed]",
      "text/plain": [
       "<IPython.core.display.Image object>"
      ]
     },
     "execution_count": 70,
     "metadata": {},
     "output_type": "execute_result"
    }
   ],
   "source": [
    "sub_tree_50 = gbc3.estimators_[50, 0]\n",
    "\n",
    "# Visualization\n",
    "# Install graphviz: https://www.graphviz.org/download/\n",
    "from pydotplus import graph_from_dot_data\n",
    "from IPython.display import Image\n",
    "dot_data = tree.export_graphviz(\n",
    "    sub_tree_50,\n",
    "    out_file=None, filled=True, rounded=True,\n",
    "    special_characters=True,\n",
    "    proportion=False, impurity=False, # enable them if you want\n",
    ")\n",
    "graph = graph_from_dot_data(dot_data)\n",
    "Image(graph.create_png())"
   ]
  },
  {
   "cell_type": "code",
   "execution_count": 71,
   "id": "25ef2fe7",
   "metadata": {},
   "outputs": [
    {
     "name": "stdout",
     "output_type": "stream",
     "text": [
      "Term = 0.7566203734527538\n",
      "ApprovalFY = 0.1596490114701213\n",
      "SameState = 0.01652376049726722\n",
      "BankState_NC = 0.012828212132501588\n",
      "RevLineCr = 0.011764525441939039\n",
      "BankState_CA = 0.00938040901828704\n",
      "GrAppv = 0.004266257657866518\n",
      "State_CA = 0.0036672269682244507\n",
      "DisbursementGross = 0.002862755040344364\n",
      "SBA_Appv = 0.002670953197480789\n"
     ]
    }
   ],
   "source": [
    "gbc3_weights = zip(X.columns, gbc3.feature_importances_)\n",
    "gbc3_weights = list(gbc3_weights)\n",
    "res = sorted(gbc3_weights, key = lambda x: x[1], reverse = True)\n",
    "for i in res[0:10]:\n",
    "    print(i[0] + ' = ' + str(i[1]))"
   ]
  },
  {
   "cell_type": "code",
   "execution_count": 72,
   "id": "b58feeed",
   "metadata": {},
   "outputs": [],
   "source": [
    "model = Sequential()\n",
    "model.add(Dense(50,input_shape=(139,),activation='sigmoid'))\n",
    "model.add(Dense(1,activation='sigmoid'))\n"
   ]
  },
  {
   "cell_type": "code",
   "execution_count": 73,
   "id": "fed9e1e1",
   "metadata": {},
   "outputs": [
    {
     "name": "stdout",
     "output_type": "stream",
     "text": [
      "Model: \"sequential\"\n",
      "_________________________________________________________________\n",
      " Layer (type)                Output Shape              Param #   \n",
      "=================================================================\n",
      " dense (Dense)               (None, 50)                7000      \n",
      "                                                                 \n",
      " dense_1 (Dense)             (None, 1)                 51        \n",
      "                                                                 \n",
      "=================================================================\n",
      "Total params: 7,051\n",
      "Trainable params: 7,051\n",
      "Non-trainable params: 0\n",
      "_________________________________________________________________\n"
     ]
    }
   ],
   "source": [
    "model.summary()\n"
   ]
  },
  {
   "cell_type": "code",
   "execution_count": 74,
   "id": "955c96c6",
   "metadata": {},
   "outputs": [
    {
     "name": "stderr",
     "output_type": "stream",
     "text": [
      "WARNING:absl:`lr` is deprecated, please use `learning_rate` instead, or use the legacy optimizer, e.g.,tf.keras.optimizers.legacy.Adam.\n"
     ]
    }
   ],
   "source": [
    "model.compile(Adam(lr=0.01),'binary_crossentropy',metrics=['accuracy'])\n"
   ]
  },
  {
   "cell_type": "code",
   "execution_count": 75,
   "id": "7eb1683b",
   "metadata": {},
   "outputs": [
    {
     "name": "stdout",
     "output_type": "stream",
     "text": [
      "Epoch 1/50\n",
      "11484/11484 [==============================] - 18s 2ms/step - loss: 0.3296 - accuracy: 0.8678\n",
      "Epoch 2/50\n",
      "11484/11484 [==============================] - 18s 2ms/step - loss: 0.2776 - accuracy: 0.8958\n",
      "Epoch 3/50\n",
      "11484/11484 [==============================] - 18s 2ms/step - loss: 0.2566 - accuracy: 0.9041\n",
      "Epoch 4/50\n",
      "11484/11484 [==============================] - 18s 2ms/step - loss: 0.2434 - accuracy: 0.9085\n",
      "Epoch 5/50\n",
      "11484/11484 [==============================] - 18s 2ms/step - loss: 0.2342 - accuracy: 0.9115\n",
      "Epoch 6/50\n",
      "11484/11484 [==============================] - 18s 2ms/step - loss: 0.2282 - accuracy: 0.9142\n",
      "Epoch 7/50\n",
      "11484/11484 [==============================] - 18s 2ms/step - loss: 0.2238 - accuracy: 0.9161\n",
      "Epoch 8/50\n",
      "11484/11484 [==============================] - 18s 2ms/step - loss: 0.2203 - accuracy: 0.9174\n",
      "Epoch 9/50\n",
      "11484/11484 [==============================] - 18s 2ms/step - loss: 0.2175 - accuracy: 0.9187\n",
      "Epoch 10/50\n",
      "11484/11484 [==============================] - 18s 2ms/step - loss: 0.2152 - accuracy: 0.9194\n",
      "Epoch 11/50\n",
      "11484/11484 [==============================] - 19s 2ms/step - loss: 0.2130 - accuracy: 0.9206\n",
      "Epoch 12/50\n",
      "11484/11484 [==============================] - 18s 2ms/step - loss: 0.2114 - accuracy: 0.9212\n",
      "Epoch 13/50\n",
      "11484/11484 [==============================] - 19s 2ms/step - loss: 0.2098 - accuracy: 0.9224\n",
      "Epoch 14/50\n",
      "11484/11484 [==============================] - 21s 2ms/step - loss: 0.2085 - accuracy: 0.9227\n",
      "Epoch 15/50\n",
      "11484/11484 [==============================] - 19s 2ms/step - loss: 0.2071 - accuracy: 0.9235\n",
      "Epoch 16/50\n",
      "11484/11484 [==============================] - 19s 2ms/step - loss: 0.2061 - accuracy: 0.9239\n",
      "Epoch 17/50\n",
      "11484/11484 [==============================] - 19s 2ms/step - loss: 0.2051 - accuracy: 0.9243\n",
      "Epoch 18/50\n",
      "11484/11484 [==============================] - 20s 2ms/step - loss: 0.2040 - accuracy: 0.9247\n",
      "Epoch 19/50\n",
      "11484/11484 [==============================] - 19s 2ms/step - loss: 0.2033 - accuracy: 0.9249\n",
      "Epoch 20/50\n",
      "11484/11484 [==============================] - 19s 2ms/step - loss: 0.2023 - accuracy: 0.9255\n",
      "Epoch 21/50\n",
      "11484/11484 [==============================] - 18s 2ms/step - loss: 0.2015 - accuracy: 0.9257\n",
      "Epoch 22/50\n",
      "11484/11484 [==============================] - 18s 2ms/step - loss: 0.2010 - accuracy: 0.9258\n",
      "Epoch 23/50\n",
      "11484/11484 [==============================] - 19s 2ms/step - loss: 0.2003 - accuracy: 0.9264\n",
      "Epoch 24/50\n",
      "11484/11484 [==============================] - 18s 2ms/step - loss: 0.1998 - accuracy: 0.9266\n",
      "Epoch 25/50\n",
      "11484/11484 [==============================] - 17s 1ms/step - loss: 0.1990 - accuracy: 0.9268\n",
      "Epoch 26/50\n",
      "11484/11484 [==============================] - 19s 2ms/step - loss: 0.1985 - accuracy: 0.9270\n",
      "Epoch 27/50\n",
      "11484/11484 [==============================] - 18s 2ms/step - loss: 0.1980 - accuracy: 0.9271\n",
      "Epoch 28/50\n",
      "11484/11484 [==============================] - 19s 2ms/step - loss: 0.1973 - accuracy: 0.9274\n",
      "Epoch 29/50\n",
      "11484/11484 [==============================] - 18s 2ms/step - loss: 0.1969 - accuracy: 0.9276\n",
      "Epoch 30/50\n",
      "11484/11484 [==============================] - 18s 2ms/step - loss: 0.1965 - accuracy: 0.9281\n",
      "Epoch 31/50\n",
      "11484/11484 [==============================] - 17s 1ms/step - loss: 0.1960 - accuracy: 0.9280\n",
      "Epoch 32/50\n",
      "11484/11484 [==============================] - 17s 1ms/step - loss: 0.1955 - accuracy: 0.9282\n",
      "Epoch 33/50\n",
      "11484/11484 [==============================] - 18s 2ms/step - loss: 0.1952 - accuracy: 0.9283\n",
      "Epoch 34/50\n",
      "11484/11484 [==============================] - 18s 2ms/step - loss: 0.1948 - accuracy: 0.9284\n",
      "Epoch 35/50\n",
      "11484/11484 [==============================] - 18s 2ms/step - loss: 0.1942 - accuracy: 0.9287\n",
      "Epoch 36/50\n",
      "11484/11484 [==============================] - 18s 2ms/step - loss: 0.1939 - accuracy: 0.9288\n",
      "Epoch 37/50\n",
      "11484/11484 [==============================] - 18s 2ms/step - loss: 0.1937 - accuracy: 0.9290\n",
      "Epoch 38/50\n",
      "11484/11484 [==============================] - 19s 2ms/step - loss: 0.1933 - accuracy: 0.9290\n",
      "Epoch 39/50\n",
      "11484/11484 [==============================] - 18s 2ms/step - loss: 0.1928 - accuracy: 0.9292\n",
      "Epoch 40/50\n",
      "11484/11484 [==============================] - 19s 2ms/step - loss: 0.1925 - accuracy: 0.9293\n",
      "Epoch 41/50\n",
      "11484/11484 [==============================] - 19s 2ms/step - loss: 0.1921 - accuracy: 0.9298\n",
      "Epoch 42/50\n",
      "11484/11484 [==============================] - 19s 2ms/step - loss: 0.1916 - accuracy: 0.9297\n",
      "Epoch 43/50\n",
      "11484/11484 [==============================] - 19s 2ms/step - loss: 0.1914 - accuracy: 0.9296\n",
      "Epoch 44/50\n",
      "11484/11484 [==============================] - 19s 2ms/step - loss: 0.1914 - accuracy: 0.9298\n",
      "Epoch 45/50\n",
      "11484/11484 [==============================] - 19s 2ms/step - loss: 0.1910 - accuracy: 0.9299\n",
      "Epoch 46/50\n",
      "11484/11484 [==============================] - 18s 2ms/step - loss: 0.1906 - accuracy: 0.9303\n",
      "Epoch 47/50\n",
      "11484/11484 [==============================] - 19s 2ms/step - loss: 0.1903 - accuracy: 0.9302\n",
      "Epoch 48/50\n",
      "11484/11484 [==============================] - 18s 2ms/step - loss: 0.1901 - accuracy: 0.9305\n",
      "Epoch 49/50\n",
      "11484/11484 [==============================] - 19s 2ms/step - loss: 0.1899 - accuracy: 0.9305\n",
      "Epoch 50/50\n",
      "11484/11484 [==============================] - 18s 2ms/step - loss: 0.1897 - accuracy: 0.9306\n"
     ]
    }
   ],
   "source": [
    "history = model.fit(X_train,y_train,epochs=50,shuffle=True)"
   ]
  },
  {
   "cell_type": "code",
   "execution_count": 76,
   "id": "cb3c4bd5",
   "metadata": {},
   "outputs": [
    {
     "data": {
      "image/png": "[encoded data removed]",
      "text/plain": [
       "<Figure size 432x288 with 1 Axes>"
      ]
     },
     "metadata": {
      "needs_background": "light"
     },
     "output_type": "display_data"
    }
   ],
   "source": [
    "plt.plot(history.history['accuracy'], label='accuracy')\n",
    "plt.plot(history.history['loss'], label='loss')\n",
    "plt.legend()\n",
    "plt.show()\n"
   ]
  },
  {
   "cell_type": "code",
   "execution_count": 77,
   "id": "77586953",
   "metadata": {},
   "outputs": [
    {
     "name": "stdout",
     "output_type": "stream",
     "text": [
      "2871/2871 [==============================] - 3s 1ms/step\n"
     ]
    }
   ],
   "source": [
    "y_hat = model.predict(X_test)\n"
   ]
  },
  {
   "cell_type": "code",
   "execution_count": 78,
   "id": "0a141743",
   "metadata": {},
   "outputs": [
    {
     "name": "stdout",
     "output_type": "stream",
     "text": [
      "2871/2871 [==============================] - 4s 1ms/step - loss: 0.2102 - accuracy: 0.9254\n"
     ]
    },
    {
     "data": {
      "text/plain": [
       "[0.2101895958185196, 0.9253635406494141]"
      ]
     },
     "execution_count": 78,
     "metadata": {},
     "output_type": "execute_result"
    }
   ],
   "source": [
    "model.evaluate(X_test, y_test)\n"
   ]
  },
  {
   "attachments": {},
   "cell_type": "markdown",
   "id": "5f0f074c",
   "metadata": {},
   "source": [
    "# Conclusion:   \n",
    "  \n",
    "  \n",
    "\n",
    "## Logisitic Regression & Stochastic Gradient Descent\n",
    "- No significant improvements from dataset baseline of 79%. \n",
    "- Not much Difference between L1 and L2 \n",
    "- SGD and Logistic Regression good for linear problems\n",
    "- Linear solvers may not fit problem well\n",
    "- Highest Accuracy 85.5% with Logistic Regression L2 C = 1  \n",
    "\n",
    "## Decision Trees &  Gradient Boosting Classifier  \n",
    "\n",
    "- Good for non-linear problems\n",
    "- Both yielded very good results. \n",
    "- The larger depth trees tended to perform better\n",
    "- Highest accuracy GBC Depth 3 95%\n",
    "\n",
    "## MLP & Tensorflow\n",
    "- Neural Networks solutions \n",
    "- Generally performed much better than linear solver, but not as good as the decision trees\n",
    "- Highest accuracy Tensorflow 93.5% binary crossentropy solver at 100 Epochs\n"
   ]
  },
  {
   "attachments": {},
   "cell_type": "markdown",
   "id": "85475c6c",
   "metadata": {},
   "source": [
    "## Improvements:\n",
    "- ApprovalFY is done retroactively, if these models were used for live data it would need to be based off of projections, which likely would affect accuracy.\n",
    "- Undersample might have helped: 21% of dataset charge-off\n",
    "- More hidden features in dataset\n",
    "- Better understanding of Loans and relationships between variables\n"
   ]
  },
  {
   "cell_type": "code",
   "execution_count": null,
   "id": "307eecaa",
   "metadata": {},
   "outputs": [],
   "source": []
  },
  {
   "cell_type": "code",
   "execution_count": null,
   "id": "14440859",
   "metadata": {},
   "outputs": [],
   "source": []
  },
  {
   "cell_type": "code",
   "execution_count": null,
   "id": "881c8ee7",
   "metadata": {},
   "outputs": [],
   "source": []
  }
 ],
 "metadata": {
  "kernelspec": {
   "display_name": "Python 3 (ipykernel)",
   "language": "python",
   "name": "python3"
  },
  "language_info": {
   "codemirror_mode": {
    "name": "ipython",
    "version": 3
   },
   "file_extension": ".py",
   "mimetype": "text/x-python",
   "name": "python",
   "nbconvert_exporter": "python",
   "pygments_lexer": "ipython3",
   "version": "3.9.12"
  }
 },
 "nbformat": 4,
 "nbformat_minor": 5
}
